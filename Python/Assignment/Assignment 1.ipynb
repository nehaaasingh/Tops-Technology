{
 "cells": [
  {
   "cell_type": "markdown",
   "metadata": {},
   "source": [
    "## Q 1:- What are the types of Applications? "
   ]
  },
  {
   "cell_type": "markdown",
   "metadata": {},
   "source": [
    "Ans:-Python is a versatile programming language that can be used to develop a wide range of applications.\n",
    "        Common types of applications are:\n",
    "       \t1.Web Applications.\n",
    "       \t2.Machine Learning.\n",
    " \t    3.Data Science.\n",
    " \t    4.Artificial Intelligence.\n",
    " \t    and many more applications are there in python."
   ]
  },
  {
   "cell_type": "markdown",
   "metadata": {},
   "source": [
    "##  Q 2:- What is programming? "
   ]
  },
  {
   "cell_type": "markdown",
   "metadata": {},
   "source": [
    "Ans:-Programming is the process of creating a set of instructions that tell a computer how to perform specific tasks or solve problems.\n",
    " \t It involves writing code in various programming languages to enable computers and applications to function as intended.\n",
    "\t Popular programming languages are: JavaScript ,Python ,C ,C++ ,HTML ,CSS etc..."
   ]
  },
  {
   "cell_type": "markdown",
   "metadata": {},
   "source": [
    "## Q 3:- What is python?"
   ]
  },
  {
   "cell_type": "markdown",
   "metadata": {},
   "source": [
    "Ans:-Python is a Programming language having properties like it is interpreted, object-oriented and it is high-level. \n",
    "     It is a set of instructions that we give in the form of a Program to \tour computer to perform any specific task. \n",
    "     Due to its beginner-friendly syntax, it became a clear choice for beginners to start their programming journey.\n",
    "     The major focus behind \tcreating it is making it easier for developers to read and understand, also reducing the lines of code."
   ]
  },
  {
   "cell_type": "markdown",
   "metadata": {},
   "source": [
    "## Q 4:- Write a Python program to check if a number is positive, negative or zero."
   ]
  },
  {
   "cell_type": "code",
   "execution_count": 1,
   "metadata": {},
   "outputs": [
    {
     "name": "stdout",
     "output_type": "stream",
     "text": [
      "12 is positive number.\n"
     ]
    }
   ],
   "source": [
    "num = int(input(\"Enter any number : \"))\n",
    "if num == 0:\n",
    "    print(f\"{num} is zero.\")\n",
    "elif num >= 1:\n",
    "    print(f\"{num} is positive number.\") \n",
    "elif num < 0:\n",
    "    print(f\"{num} is negative number.\")\n",
    "else:\n",
    "    print(\"Invalid Data!\")"
   ]
  },
  {
   "cell_type": "markdown",
   "metadata": {},
   "source": [
    "## Q 5:- Write a Python program to get the Factorial number of given numbers."
   ]
  },
  {
   "cell_type": "code",
   "execution_count": 2,
   "metadata": {},
   "outputs": [
    {
     "name": "stdout",
     "output_type": "stream",
     "text": [
      "The factorial of 2 is: 2\n"
     ]
    }
   ],
   "source": [
    "num = int(input(\"Enter the Number:\"))\n",
    "\n",
    "fact = 1\n",
    "i = 1\n",
    "\n",
    "while i <= num:\n",
    "    fact *= i\n",
    "    i += 1\n",
    "\n",
    "print(f\"The factorial of {num} is: {fact}\")"
   ]
  },
  {
   "cell_type": "markdown",
   "metadata": {},
   "source": [
    "## Q 6:-Write a Python program to get the Fibonacci series of given range."
   ]
  },
  {
   "cell_type": "code",
   "execution_count": 1,
   "metadata": {},
   "outputs": [
    {
     "name": "stdout",
     "output_type": "stream",
     "text": [
      "0 1 1 2 3 "
     ]
    }
   ],
   "source": [
    "n = int(input(\"Enter the number of terms:\"))\n",
    "\n",
    "a,b = 0,1\n",
    "count = 0\n",
    "\n",
    "while count < n:\n",
    "    print(a, end=\" \")\n",
    "    a,b = b,a+b\n",
    "    count += 1"
   ]
  },
  {
   "cell_type": "markdown",
   "metadata": {},
   "source": [
    "## Q 7:- How memory is managed in Python?"
   ]
  },
  {
   "cell_type": "markdown",
   "metadata": {},
   "source": [
    " Ans:- Python manages memory through a private heap,a garbage collector, and memory pools.\n",
    "       Private Heap : A private heap is a section of memory that's exclusive to the python process.\n",
    "                      The size of the private heap can change based on the program's memory needs.\n",
    "\n",
    "       Garbage collector : The garbage collector automatically reclaims memory that's no longer in use.\n",
    "                           The garbage collector runs periodically to find and collect objects with a reference count of zero.\n",
    "\n",
    "       Memory Pools : Memory pools are pre-allocatted  chunks of memory that are organized by the size of the objects they store.\n",
    "                      Memory pools are used to manage small objects (up to 512 bytes)."
   ]
  },
  {
   "cell_type": "markdown",
   "metadata": {},
   "source": [
    "## Q 8:-What is the purpose continuing statement in python? "
   ]
  },
  {
   "cell_type": "markdown",
   "metadata": {},
   "source": [
    "Ans:- The continue statement in Python skips the current iteration of a loop and moves on to the next iteration.\n",
    "      It's used to ignore certain values or conditions while iterating over a sequence."
   ]
  },
  {
   "cell_type": "markdown",
   "metadata": {},
   "source": [
    "## Q 9:-Write python program that swap two number with temp variable and without temp variable."
   ]
  },
  {
   "cell_type": "code",
   "execution_count": 4,
   "metadata": {},
   "outputs": [
    {
     "name": "stdout",
     "output_type": "stream",
     "text": [
      "Before swapping:\n",
      "num1 = 2\n",
      "num2 = 4\n",
      "\n",
      "After swapping with temp variable:\n",
      "num1 = 4\n",
      "num2 = 2\n"
     ]
    }
   ],
   "source": [
    "# With temp variable\n",
    "\n",
    "num1 = int(input(\"Enter a value of num1:\"))\n",
    "num2 = int(input(\"Enter a value of num2:\"))\n",
    "\n",
    "print(\"Before swapping:\")\n",
    "print(\"num1 =\", num1)\n",
    "print(\"num2 =\", num2)\n",
    "\n",
    "temp = num1\n",
    "num1 = num2\n",
    "num2 = temp\n",
    "\n",
    "print(\"\\nAfter swapping with temp variable:\")\n",
    "print(\"num1 =\", num1)\n",
    "print(\"num2 =\", num2)"
   ]
  },
  {
   "cell_type": "code",
   "execution_count": 5,
   "metadata": {},
   "outputs": [
    {
     "name": "stdout",
     "output_type": "stream",
     "text": [
      "Before swapping:\n",
      "num1 = 4\n",
      "num2 = 5\n",
      "\n",
      "After swapping without temp variable:\n",
      "num1 = 5\n",
      "num2 = 4\n"
     ]
    }
   ],
   "source": [
    "# Without temp variable\n",
    "\n",
    "num1 = int(input(\"Enter a value of num1:\"))\n",
    "num2 = int(input(\"Enter a value of num2:\"))\n",
    "\n",
    "print(\"Before swapping:\")\n",
    "print(\"num1 =\", num1)\n",
    "print(\"num2 =\", num2)\n",
    "\n",
    "# Swapping\n",
    "num1 = num1 + num2\n",
    "num2 = num1 - num2\n",
    "num1 = num1 - num2\n",
    "\n",
    "print(\"\\nAfter swapping without temp variable:\")\n",
    "print(\"num1 =\", num1)\n",
    "print(\"num2 =\", num2)"
   ]
  },
  {
   "cell_type": "markdown",
   "metadata": {},
   "source": [
    "## Q 10:- Write a Python program to find whether a given number is even or odd, print out an appropriate message to the user."
   ]
  },
  {
   "cell_type": "code",
   "execution_count": 6,
   "metadata": {},
   "outputs": [
    {
     "name": "stdout",
     "output_type": "stream",
     "text": [
      "4 is an even number.\n"
     ]
    }
   ],
   "source": [
    "number = int(input(\"Enter a number:\"))\n",
    "\n",
    "if number % 2 == 0:\n",
    "    print(f\"{number} is an even number.\")\n",
    "else:\n",
    "    print(f\"{number} is an odd number.\")"
   ]
  },
  {
   "cell_type": "markdown",
   "metadata": {},
   "source": [
    "## Q 11:-Write a Python program to test whether a passed letter is a vowel or not. "
   ]
  },
  {
   "cell_type": "code",
   "execution_count": 7,
   "metadata": {},
   "outputs": [
    {
     "name": "stdout",
     "output_type": "stream",
     "text": [
      "Given letter a is a vowel.\n"
     ]
    }
   ],
   "source": [
    "letter = input(\"Enter the letter:\")\n",
    "\n",
    "if (letter == 'A' or letter == 'E' or letter == 'I' or letter == 'O' or letter == 'U' or letter == 'a' or letter == 'e' or letter == 'i' or letter == 'o' or letter == 'u'):\n",
    "    print(f\"Given letter {letter} is a vowel.\")\n",
    "else:\n",
    "    print(f\"Given letter {letter} is not a vowel.\")"
   ]
  },
  {
   "cell_type": "markdown",
   "metadata": {},
   "source": [
    "## Q 12:-Write a Python program to sum of three given integers. However, if two values are equal sum will be zero. "
   ]
  },
  {
   "cell_type": "code",
   "execution_count": 8,
   "metadata": {},
   "outputs": [
    {
     "name": "stdout",
     "output_type": "stream",
     "text": [
      "sum of three given integers 3,4,5 is : 12\n"
     ]
    }
   ],
   "source": [
    "num1 = int(input(\"Enter first integer:\"))\n",
    "num2 = int(input(\"Enter second integer:\"))\n",
    "num3 = int(input(\"Enter third integer:\"))\n",
    "\n",
    "sum_of_integers = 0\n",
    "\n",
    "if num1 == num2 or num2 == num3 or num1 == num3:\n",
    "    print(sum_of_integers)\n",
    "else:\n",
    "    sum_of_integers = num1 + num2 + num3\n",
    "    print(f\"sum of three given integers {num1},{num2},{num3} is : {sum_of_integers}\")"
   ]
  },
  {
   "cell_type": "markdown",
   "metadata": {},
   "source": [
    "## Q 13:-Write a Python program that will return true if the two given integer values are equal or their sum or difference is 5."
   ]
  },
  {
   "cell_type": "code",
   "execution_count": 9,
   "metadata": {},
   "outputs": [
    {
     "name": "stdout",
     "output_type": "stream",
     "text": [
      "False\n"
     ]
    }
   ],
   "source": [
    "num1 = int(input(\"Enter a value of num1:\"))\n",
    "num2 = int(input(\"Enter a value of num2:\"))\n",
    "\n",
    "add = num1 + num2\n",
    "diff = num1 - num2\n",
    "\n",
    "if num1 == num2 or add == 5 or diff == 5:\n",
    "    print(True)\n",
    "else:\n",
    "    print(False)"
   ]
  },
  {
   "cell_type": "markdown",
   "metadata": {},
   "source": [
    "## Q 14:-Write a python program to sum of the first n positive integers."
   ]
  },
  {
   "cell_type": "code",
   "execution_count": 12,
   "metadata": {},
   "outputs": [
    {
     "name": "stdout",
     "output_type": "stream",
     "text": [
      "sum of the first 5 positive integers is : 15\n"
     ]
    }
   ],
   "source": [
    "num = int(input(\"Enter the value of num:\"))\n",
    "summation = 0\n",
    "for i in range(1,num+1):\n",
    "    summation += i\n",
    "print(f\"sum of the first {num} positive integers is : {summation}\")"
   ]
  },
  {
   "cell_type": "markdown",
   "metadata": {},
   "source": [
    "## Q 15:-Write a Python program to calculate the length of a string."
   ]
  },
  {
   "cell_type": "code",
   "execution_count": 14,
   "metadata": {},
   "outputs": [
    {
     "name": "stdout",
     "output_type": "stream",
     "text": [
      "The length of Neha is 4\n"
     ]
    }
   ],
   "source": [
    "str = input(\"Enter any word : \")\n",
    "length = len(str)\n",
    "print(f\"The length of {str} is {length}\")"
   ]
  },
  {
   "cell_type": "markdown",
   "metadata": {},
   "source": [
    "## Q 16:- Write a Python program to count the number of characters (character frequency) in a string."
   ]
  },
  {
   "cell_type": "code",
   "execution_count": 1,
   "metadata": {},
   "outputs": [
    {
     "name": "stdout",
     "output_type": "stream",
     "text": [
      "Character frequency in the string:\n",
      "'H': 1\n",
      "'e': 3\n",
      "'y': 1\n",
      "' ': 1\n",
      "'t': 1\n",
      "'h': 1\n",
      "'r': 1\n",
      "'!': 2\n"
     ]
    }
   ],
   "source": [
    "input_string = \"Hey there!!\"\n",
    "char_count = {}\n",
    "\n",
    "for char in input_string:\n",
    "    if char in char_count:\n",
    "        char_count[char] += 1\n",
    "    else:\n",
    "        char_count[char] = 1\n",
    "        \n",
    "print(\"Character frequency in the string:\")\n",
    "for char, count in char_count.items():\n",
    "    print(f\"'{char}': {count}\")"
   ]
  },
  {
   "cell_type": "markdown",
   "metadata": {},
   "source": [
    "## Q 17:-What are negative indexes and why are they used? "
   ]
  },
  {
   "cell_type": "markdown",
   "metadata": {},
   "source": [
    "Ans :- Negative indexing are a way to access elements from the end of a sequence,such as a list,tuple or string.\n",
    "       Instead of starting from the beginning of the sequence,negative indexes allow you to count backward from the end of the sequence.\n",
    "       Why are they used?\n",
    "       (i) Convenience: Negative indexes provide a convenient way to access element from the end of a sequence without needing to calculate the length of the sequence.\n",
    "       (ii) Improved Readability: Using negative indexes can make your code more readable in certain contexts.\n",
    "       (iii) Simplification: When working with sequence of unknown variable lengths,negative indexing allows you to easily access elements without needing to know the exact length of the sequence."
   ]
  },
  {
   "cell_type": "markdown",
   "metadata": {},
   "source": [
    "## Q 18:-Write a Python program to count occurrences of a substring in a string."
   ]
  },
  {
   "cell_type": "code",
   "execution_count": null,
   "metadata": {},
   "outputs": [
    {
     "name": "stdout",
     "output_type": "stream",
     "text": [
      "Occurence of Hello in given Hello world , Hello Universe is 2\n"
     ]
    }
   ],
   "source": [
    "string = \"Hello world , Hello Universe\"\n",
    "substring = \"Hello\" \n",
    "\n",
    "occurrences = string.count(substring)\n",
    "print(f\"Occurence of {substring} in given {string} is : {occurrences}\")"
   ]
  },
  {
   "cell_type": "markdown",
   "metadata": {},
   "source": [
    "### Q 19:- Write a Python program to count the occurrences of each word in a given sentence."
   ]
  },
  {
   "cell_type": "code",
   "execution_count": 3,
   "metadata": {},
   "outputs": [
    {
     "name": "stdout",
     "output_type": "stream",
     "text": [
      "Word frequency in the sentence:\n",
      "'hello': 2\n",
      "'world': 1\n",
      "'universe': 1\n"
     ]
    }
   ],
   "source": [
    "from collections import Counter\n",
    "\n",
    "sentence = \"hello world hello universe\"\n",
    "\n",
    "words = sentence.split()\n",
    "\n",
    "word_count = Counter(words)\n",
    "\n",
    "print(\"Word frequency in the sentence:\")\n",
    "for word, count in word_count.items():\n",
    "    print(f\"'{word}': {count}\")      \n",
    "\n"
   ]
  },
  {
   "cell_type": "markdown",
   "metadata": {},
   "source": [
    "## Q 20:- Write a Python program to get a single string from two given strings,separated by a space and swap the first two characters of each string."
   ]
  },
  {
   "cell_type": "code",
   "execution_count": null,
   "metadata": {},
   "outputs": [
    {
     "name": "stdout",
     "output_type": "stream",
     "text": [
      "Final string: wollo herld\n"
     ]
    }
   ],
   "source": [
    "string1 = input(\"Enter string1 : \")\n",
    "string2 = input(\"Enter string2 : \")\n",
    "if len(string1) < 2 and len(string2) < 2:\n",
    "    print(\"Both string must contain atleast two characters.\")\n",
    "else:\n",
    "    swap_string1 = string2[:2] + string1[2:]   \n",
    "    swap_string2 = string1[:2] + string2[2:]\n",
    "    combined_string = swap_string1 + \" \" + swap_string2\n",
    "print(f\"Final string: {combined_string}\")    \n"
   ]
  },
  {
   "cell_type": "markdown",
   "metadata": {},
   "source": [
    "## Q 21:- Write a Python program to add 'in' at the end of a given string (length should be at least 3). If the given string already ends with 'ing' then add 'ly' instead if the string length of the given string is less than 3, leave it unchanged. \n"
   ]
  },
  {
   "cell_type": "code",
   "execution_count": 7,
   "metadata": {},
   "outputs": [
    {
     "name": "stdout",
     "output_type": "stream",
     "text": [
      "Modified string: Learningly\n"
     ]
    }
   ],
   "source": [
    "s = \"Learning\"\n",
    "\n",
    "if len(s) >= 3:\n",
    "    if s.endswith('ing'):\n",
    "        s += 'ly'\n",
    "    else:\n",
    "        s += 'in'\n",
    "        \n",
    "print(\"Modified string:\", s)  "
   ]
  },
  {
   "cell_type": "markdown",
   "metadata": {},
   "source": [
    "## Q 22:- Write a Python function to reverses a string if its length is a multiple of 4."
   ]
  },
  {
   "cell_type": "code",
   "execution_count": 11,
   "metadata": {},
   "outputs": [
    {
     "name": "stdout",
     "output_type": "stream",
     "text": [
      "ahen\n"
     ]
    }
   ],
   "source": [
    "s = input(\"Enter a string : \")\n",
    "if len(s) % 4 ==0:\n",
    "    print(s[::-1])\n",
    "else :\n",
    "    print(s)    \n",
    "   "
   ]
  },
  {
   "cell_type": "markdown",
   "metadata": {},
   "source": [
    "## Q 23:- Write a Python program to get a string made of the first 2 and the last 2 chars from a given a string. If the string length is less than 2, return instead of the empty string."
   ]
  },
  {
   "cell_type": "code",
   "execution_count": 1,
   "metadata": {},
   "outputs": [
    {
     "name": "stdout",
     "output_type": "stream",
     "text": [
      "Helo\n"
     ]
    }
   ],
   "source": [
    "s= \"Hello\"\n",
    "if len(s) < 2 :\n",
    "   print(\" \")\n",
    "else :\n",
    "   print(s[:2] + s[-2:])\n",
    "      \n",
    "    \n"
   ]
  },
  {
   "cell_type": "markdown",
   "metadata": {},
   "source": [
    "## Q 24:-Write a Python function to insert a string in the middle of a string."
   ]
  },
  {
   "cell_type": "code",
   "execution_count": 26,
   "metadata": {},
   "outputs": [
    {
     "name": "stdout",
     "output_type": "stream",
     "text": [
      "nesinghha\n"
     ]
    }
   ],
   "source": [
    "str1 = input(\"Enter string1 : \")\n",
    "str2 = input(\"Enter string2 :\")\n",
    "\n",
    "middle = len(str1) // 2\n",
    "\n",
    "final_string = str1[:middle] + str2 + str1[middle:]\n",
    "print(final_string)\n",
    "\n",
    "\n",
    " "
   ]
  },
  {
   "cell_type": "markdown",
   "metadata": {},
   "source": [
    "## Q 25:-What is List? How will you reverse a list? "
   ]
  },
  {
   "cell_type": "markdown",
   "metadata": {},
   "source": [
    "Ans:- A list is a built-in data structure in Python that allows you to store multiple items in a single variable.Lists are ordered, mutable and can store elements of different data types.\n"
   ]
  },
  {
   "cell_type": "code",
   "execution_count": 3,
   "metadata": {},
   "outputs": [
    {
     "name": "stdout",
     "output_type": "stream",
     "text": [
      "[(5+9j), 0.9, 'apple', 'a', 1]\n"
     ]
    }
   ],
   "source": [
    "# There are several ways to reverse a list.\n",
    "# Using reverse() Method.\n",
    "\n",
    "list_1 = [1,'a','apple',0.9,5+9j]\n",
    "list_1.reverse()\n",
    "print(list_1)"
   ]
  },
  {
   "cell_type": "code",
   "execution_count": null,
   "metadata": {},
   "outputs": [
    {
     "name": "stdout",
     "output_type": "stream",
     "text": [
      "[(5+9j), 0.9, 'apple', 'a', 1]\n"
     ]
    }
   ],
   "source": [
    "# Using slicing.\n",
    "\n",
    "list_1 = [1,'a','apple',0.9,5+9j]\n",
    "reverse_list = list_1[::-1]\n",
    "print(reverse_list)"
   ]
  },
  {
   "cell_type": "code",
   "execution_count": null,
   "metadata": {},
   "outputs": [
    {
     "name": "stdout",
     "output_type": "stream",
     "text": [
      "[1, 'a', 'apple', 0.9, (5+9j)]\n"
     ]
    }
   ],
   "source": [
    "# Using Loop.\n",
    "\n",
    "list_1 = [1,'a','apple',0.9,5+9j]\n",
    "reverse_list = []\n",
    "\n",
    "for item in reversed(list_1):\n",
    "    reverse_list.append(item)\n",
    "print(reverse_list)    "
   ]
  },
  {
   "cell_type": "markdown",
   "metadata": {},
   "source": [
    "## Q 26:-How will you remove last object from a list?"
   ]
  },
  {
   "cell_type": "code",
   "execution_count": 8,
   "metadata": {},
   "outputs": [
    {
     "name": "stdout",
     "output_type": "stream",
     "text": [
      "[1, 'a', 'apple', 0.9]\n"
     ]
    }
   ],
   "source": [
    "list_1 = [1,'a','apple',0.9,5+9j]\n",
    "list_1.pop()\n",
    "print(list_1)"
   ]
  },
  {
   "cell_type": "code",
   "execution_count": 10,
   "metadata": {},
   "outputs": [
    {
     "name": "stdout",
     "output_type": "stream",
     "text": [
      "[1, 'a', 'apple', 0.9]\n"
     ]
    }
   ],
   "source": [
    "list_1 = [1,'a','apple',0.9,5+9j]\n",
    "del list_1[4]\n",
    "print(list_1)"
   ]
  },
  {
   "cell_type": "code",
   "execution_count": 15,
   "metadata": {},
   "outputs": [
    {
     "name": "stdout",
     "output_type": "stream",
     "text": [
      "[1, 'a', 'apple', 0.9]\n"
     ]
    }
   ],
   "source": [
    "list_1 = [1,'a','apple',0.9,5+9j]\n",
    "list_1 = list_1[:-1]\n",
    "print(list_1)"
   ]
  },
  {
   "cell_type": "markdown",
   "metadata": {},
   "source": [
    "## Q 27:-Suppose list1 is [2, 33, 222, 14, and 25], what is list1 [-1]? "
   ]
  },
  {
   "cell_type": "code",
   "execution_count": 28,
   "metadata": {},
   "outputs": [
    {
     "data": {
      "text/plain": [
       "25"
      ]
     },
     "execution_count": 28,
     "metadata": {},
     "output_type": "execute_result"
    }
   ],
   "source": [
    "list1 = [2,33,222,14,25]\n",
    "list1[-1]"
   ]
  },
  {
   "cell_type": "markdown",
   "metadata": {},
   "source": [
    "## Q 28:-Differentiate between append () and extend () methods? "
   ]
  },
  {
   "cell_type": "markdown",
   "metadata": {},
   "source": [
    "Ans:- In List both append() and extend () methods are used to add elements. But they work differently.\n",
    "      Append() Method:\n",
    "            ~ It adds a single element to the end of the list.\n",
    "            ~ If you append a list,it will be added as a single element (nested list).\n",
    "            ~ Modifies the original list.\n",
    "            ~ Increases length by 1.\n",
    "      Extend() Methid:\n",
    "            ~ Adds multiple elements from an iterable (e.g. list,tuple,string) to the end of the list.\n",
    "            ~ Modifies the original list. \n",
    "            ~ Increases length by number of items in iterable."
   ]
  },
  {
   "cell_type": "markdown",
   "metadata": {},
   "source": [
    "## Q 29:-Write a Python function to get the largest number, smallest num and sum of all from a list."
   ]
  },
  {
   "cell_type": "code",
   "execution_count": 4,
   "metadata": {},
   "outputs": [
    {
     "name": "stdout",
     "output_type": "stream",
     "text": [
      "Largest number from the given list is: 97.\n",
      "Smallest number from the given list is: 9.\n",
      "Sum of number from the given list is: 181.\n"
     ]
    }
   ],
   "source": [
    "num = [10,20,45,9,97]\n",
    "\n",
    "largest = max(num)\n",
    "smallest = min(num)\n",
    "total = sum(num)\n",
    "print(f\"Largest number from the given list is: {largest}.\")\n",
    "print(f\"Smallest number from the given list is: {smallest}.\")\n",
    "print(f\"Sum of number from the given list is: {total}.\")"
   ]
  },
  {
   "cell_type": "markdown",
   "metadata": {},
   "source": [
    "## Q 30:-How will you compare two lists?"
   ]
  },
  {
   "cell_type": "code",
   "execution_count": null,
   "metadata": {},
   "outputs": [
    {
     "name": "stdout",
     "output_type": "stream",
     "text": [
      "List are equal.\n"
     ]
    }
   ],
   "source": [
    "# Equality expression (==)\n",
    "list_1 = [1,2,3]\n",
    "list_2 = [1,2,3]\n",
    "\n",
    "if list_1 == list_2:\n",
    "    print(\"List are equal.\")\n",
    "else:\n",
    "    print(\"List are not equal.\")    "
   ]
  },
  {
   "cell_type": "code",
   "execution_count": 7,
   "metadata": {},
   "outputs": [
    {
     "name": "stdout",
     "output_type": "stream",
     "text": [
      "The lists have the same elements, but order doesn't matter.\n"
     ]
    }
   ],
   "source": [
    "# Using sorted()\n",
    "list1 = [1, 2, 3]\n",
    "list2 = [3,2, 1]\n",
    "\n",
    "if sorted(list1) == sorted(list2):\n",
    "    print(\"The lists have the same elements, but order doesn't matter.\")\n",
    "else:\n",
    "    print(\"The lists are not the same.\")"
   ]
  },
  {
   "cell_type": "code",
   "execution_count": 9,
   "metadata": {},
   "outputs": [
    {
     "name": "stdout",
     "output_type": "stream",
     "text": [
      "The lists are not the same.\n"
     ]
    }
   ],
   "source": [
    "# Using set()\n",
    "list1 = [1, 2, 3]\n",
    "list2 = [3,4, 1]\n",
    "if set(list1) == set(list2):\n",
    "    print(\"The lists have the same unique elements.\")\n",
    "else:\n",
    "    print(\"The lists are not the same.\")"
   ]
  },
  {
   "cell_type": "markdown",
   "metadata": {},
   "source": [
    "## Q 31:- Write a Python program to count the number of strings where the string length is 2 or more and the first and last character are same from a given list of strings. \n"
   ]
  },
  {
   "cell_type": "code",
   "execution_count": 10,
   "metadata": {},
   "outputs": [
    {
     "name": "stdout",
     "output_type": "stream",
     "text": [
      "Number of strings : 3\n"
     ]
    }
   ],
   "source": [
    "s = ['aba','cbc','abc','xyz','aaa']\n",
    "count = 0\n",
    "\n",
    "for i in s:\n",
    "    if len(s) >= 2 and i[0] == i[-1]:\n",
    "     count +=1\n",
    "print(f\"Number of strings : {count}\")    \n"
   ]
  },
  {
   "cell_type": "markdown",
   "metadata": {},
   "source": [
    "## Q 32:-Write a Python program to remove duplicates from a list."
   ]
  },
  {
   "cell_type": "code",
   "execution_count": 12,
   "metadata": {},
   "outputs": [
    {
     "name": "stdout",
     "output_type": "stream",
     "text": [
      "List after removing duplicates: ['Mango', 'Banana', 'Grapes', 'Dragonfruit', 'Apple', 'Chikku']\n"
     ]
    }
   ],
   "source": [
    "l = ['Apple','Banana','Chikku','Dragonfruit','Grapes','Mango','Apple','Chikku']\n",
    "unique_list = list((set(l)))\n",
    "\n",
    "print(\"List after removing duplicates:\", unique_list)\n"
   ]
  },
  {
   "cell_type": "markdown",
   "metadata": {},
   "source": [
    "## Q 33:-Write a Python program to check a list is empty or not. "
   ]
  },
  {
   "cell_type": "code",
   "execution_count": 8,
   "metadata": {},
   "outputs": [
    {
     "name": "stdout",
     "output_type": "stream",
     "text": [
      "List is not empty\n"
     ]
    }
   ],
   "source": [
    "l = ['Neha']\n",
    "\n",
    "if len(l) == 0:\n",
    "    print(\"List is empty.\")\n",
    "else:\n",
    "    print(\"List is not empty\")    "
   ]
  },
  {
   "cell_type": "markdown",
   "metadata": {},
   "source": [
    "## Q 34:-Write a Python function that takes two lists and returns true if they have at least one common member."
   ]
  },
  {
   "cell_type": "code",
   "execution_count": 20,
   "metadata": {},
   "outputs": [
    {
     "name": "stdout",
     "output_type": "stream",
     "text": [
      "True\n"
     ]
    }
   ],
   "source": [
    "list1 = [1,2,3]\n",
    "list2 = [3,4,5,6]\n",
    "flag = False\n",
    "for i in list1:\n",
    "    if i in list2:\n",
    "        flag = True \n",
    "print(flag)"
   ]
  },
  {
   "cell_type": "markdown",
   "metadata": {},
   "source": [
    "## Q 35:-Write a Python program to generate and print a list of first and last 5 elements where the values are square of numbers between 1 and 30."
   ]
  },
  {
   "cell_type": "code",
   "execution_count": 20,
   "metadata": {},
   "outputs": [
    {
     "name": "stdout",
     "output_type": "stream",
     "text": [
      "First 5 elements :  [1, 4, 9, 16, 25]\n",
      "Last 5 elements :  [676, 729, 784, 841, 900]\n"
     ]
    }
   ],
   "source": [
    "square = [x**2 for x in range(1,31)]\n",
    "\n",
    "print(f\"First 5 elements : \",square[:5])\n",
    "print(f\"Last 5 elements : \",square[-5:])"
   ]
  },
  {
   "cell_type": "markdown",
   "metadata": {},
   "source": [
    "## Q 36:-Write a Python function that takes a list and returns a new list with unique elements of the first list."
   ]
  },
  {
   "cell_type": "code",
   "execution_count": null,
   "metadata": {},
   "outputs": [
    {
     "name": "stdout",
     "output_type": "stream",
     "text": [
      "Unique elements : [1, 2, 3, 4, 5, 6]\n"
     ]
    }
   ],
   "source": [
    "list_1 = [1,2,3,4,5,6,3,6,1]\n",
    "unique_list = []\n",
    "\n",
    "for i in list_1 :\n",
    "    if i not in  unique_list:\n",
    "        unique_list.append(i)\n",
    "print(f\"Unique elements : {unique_list}\")        "
   ]
  },
  {
   "cell_type": "markdown",
   "metadata": {},
   "source": [
    "## Q 37:-Write a Python program to convert a list of characters into a string."
   ]
  },
  {
   "cell_type": "code",
   "execution_count": 37,
   "metadata": {},
   "outputs": [
    {
     "name": "stdout",
     "output_type": "stream",
     "text": [
      "Converted String : NEHA\n"
     ]
    }
   ],
   "source": [
    "l = ['N','E','H','A']\n",
    "result = \"\"\n",
    "for i in l:\n",
    "    result +=i\n",
    "print(f\"Converted String : {result}\")    "
   ]
  },
  {
   "cell_type": "markdown",
   "metadata": {},
   "source": [
    "## Q 38:-Write a Python program to select an item randomly from a list."
   ]
  },
  {
   "cell_type": "code",
   "execution_count": null,
   "metadata": {},
   "outputs": [
    {
     "name": "stdout",
     "output_type": "stream",
     "text": [
      "Randomly selected item: 3\n"
     ]
    }
   ],
   "source": [
    "import random\n",
    "\n",
    "l = [1,2,3,4,'a','b','c','d']\n",
    "\n",
    "random_item = random.choice(l)\n",
    "\n",
    "print(\"Randomly selected item:\", random_item)"
   ]
  },
  {
   "cell_type": "markdown",
   "metadata": {},
   "source": [
    "## Q 39:-Write a Python program to find the second smallest number in a list."
   ]
  },
  {
   "cell_type": "code",
   "execution_count": 5,
   "metadata": {},
   "outputs": [
    {
     "name": "stdout",
     "output_type": "stream",
     "text": [
      "[10, 37, 55, 89, 90]\n",
      "Second smallest number is 37\n"
     ]
    }
   ],
   "source": [
    "l = [10,55,37,89,90]\n",
    "l.sort()\n",
    "print(l)\n",
    "second_smallno = l[1]\n",
    "print(f\"Second smallest number is {second_smallno}\")"
   ]
  },
  {
   "cell_type": "markdown",
   "metadata": {},
   "source": [
    "## Q 40:-Write a Python program to get unique values from a list."
   ]
  },
  {
   "cell_type": "code",
   "execution_count": 10,
   "metadata": {},
   "outputs": [
    {
     "name": "stdout",
     "output_type": "stream",
     "text": [
      "Unique values is : ['a', 'b', 'c', 1, 2, 3, 4]\n"
     ]
    }
   ],
   "source": [
    "values = ['a','b','c',1,2,3,4,'b','c',1,2,3]\n",
    "\n",
    "unique_value = []\n",
    "\n",
    "for i in values:\n",
    "    if i not in unique_value:\n",
    "        unique_value.append(i)\n",
    "print(f\"Unique values is : {unique_value}\")        "
   ]
  },
  {
   "cell_type": "markdown",
   "metadata": {},
   "source": [
    "## Q 41:-Write a Python program to check whether a list contains a sub list."
   ]
  },
  {
   "cell_type": "code",
   "execution_count": 12,
   "metadata": {},
   "outputs": [
    {
     "name": "stdout",
     "output_type": "stream",
     "text": [
      "True\n"
     ]
    }
   ],
   "source": [
    "def is_contains_sublist(list1,list2):\n",
    "    for i in range(len(sup_list) - len(sub_list) + 1):\n",
    "        if sup_list[i:i + len(sub_list)] == sub_list:\n",
    "            return True\n",
    "    return False\n",
    "\n",
    "sup_list = [1,2,3,4,5,6,7,8,9,10]\n",
    "sub_list = [4,5,6,7,8]\n",
    "\n",
    "print(is_contains_sublist(sup_list, sub_list))"
   ]
  },
  {
   "cell_type": "markdown",
   "metadata": {},
   "source": [
    "## Q 42:-Write a Python program to split a list into different variables."
   ]
  },
  {
   "cell_type": "code",
   "execution_count": 13,
   "metadata": {},
   "outputs": [
    {
     "name": "stdout",
     "output_type": "stream",
     "text": [
      "a: 1\n",
      "b: 2\n",
      "c: 3\n",
      "d: 4\n",
      "e: 5\n"
     ]
    }
   ],
   "source": [
    "nums = [1, 2, 3, 4, 5]\n",
    "\n",
    "a, b, c, d, e = nums\n",
    "\n",
    "print(\"a:\", a)\n",
    "print(\"b:\", b)\n",
    "print(\"c:\", c)\n",
    "print(\"d:\", d)\n",
    "print(\"e:\", e)"
   ]
  },
  {
   "cell_type": "markdown",
   "metadata": {},
   "source": [
    "## Q 43:-What is tuple? Difference between list and tuple."
   ]
  },
  {
   "cell_type": "markdown",
   "metadata": {},
   "source": [
    "Ans:-A tuple is an ordered, immutable (unchangeable) collection in Python. It is used to store multiple items in a single variable.\n",
    "     Tuples are defined using parentheses () and can hold elements of different data types.\n",
    "     Key Differences:-\n",
    "     List:-                                                                                Tuple:-\n",
    "          ~ List is mutable.                                                                   ~ Tuple is immutable.\n",
    "          ~ It is defined using square brackets [].                                            ~ It is defined using parentheses ()\n",
    "          ~ Uses more memory(due to extra operations)                                          ~ Uses less memory as tuple is immutable\n",
    "          ~ Methods used like append(),remove(),pop(),etc.                                     ~ Methods used like count(), index()\n",
    "          ~ Use when frequent modifications are needed.                                        ~ Use when data should remain unchanged.\n",
    "    \n"
   ]
  },
  {
   "cell_type": "markdown",
   "metadata": {},
   "source": [
    "## Q 44:-Write a Python program to create a tuple with different data types."
   ]
  },
  {
   "cell_type": "code",
   "execution_count": 14,
   "metadata": {},
   "outputs": [
    {
     "data": {
      "text/plain": [
       "tuple"
      ]
     },
     "execution_count": 14,
     "metadata": {},
     "output_type": "execute_result"
    }
   ],
   "source": [
    "tup = ('Neha',3.14,True,[1,2,3],25)\n",
    "type(tup)\n"
   ]
  },
  {
   "cell_type": "markdown",
   "metadata": {},
   "source": [
    "## Q 46:-Write a Python program to convert a list of tuples into a dictionary."
   ]
  },
  {
   "cell_type": "code",
   "execution_count": 23,
   "metadata": {},
   "outputs": [
    {
     "name": "stdout",
     "output_type": "stream",
     "text": [
      "Converted dictionary is : {'a': 1, 'b': 2, 'c': 3}\n"
     ]
    }
   ],
   "source": [
    "t1 = [('a',1),('b',2),('c',3)]\n",
    "tup_dict = dict(t1) \n",
    "print(f\"Converted dictionary is : {tup_dict}\")\n"
   ]
  },
  {
   "cell_type": "markdown",
   "metadata": {},
   "source": [
    "## Q 47:-How will you create a dictionary using tuples in python? \n"
   ]
  },
  {
   "cell_type": "code",
   "execution_count": null,
   "metadata": {},
   "outputs": [
    {
     "name": "stdout",
     "output_type": "stream",
     "text": [
      "{'a': 1, 'b': 2, 'c': 3}\n"
     ]
    }
   ],
   "source": [
    "# Using dict() \n",
    "\n",
    "tuple_list1 = [('a',1),('b',2),('c',3)]\n",
    "dictionary = dict(tuple_list1)\n",
    "print(dictionary)"
   ]
  },
  {
   "cell_type": "code",
   "execution_count": null,
   "metadata": {},
   "outputs": [
    {
     "name": "stdout",
     "output_type": "stream",
     "text": [
      "{'a': 1, 'b': 2, 'c': 3}\n"
     ]
    }
   ],
   "source": [
    "# Using for loop:\n",
    "tuple_list1 = [('a',1),('b',2),('c',3)]\n",
    "dict_1 = {}\n",
    "for i in range(len(tuple_list1)):\n",
    "    key = tuple_list1[i][0]\n",
    "    value = tuple_list1[i][1]\n",
    "    dict_1[key] = value\n",
    "print(dict_1)    "
   ]
  },
  {
   "cell_type": "code",
   "execution_count": 5,
   "metadata": {},
   "outputs": [
    {
     "name": "stdout",
     "output_type": "stream",
     "text": [
      "{'a': 1, 'b': 2, 'c': 3}\n"
     ]
    }
   ],
   "source": [
    "# Using zip():\n",
    "keys = ('a','b','c')\n",
    "values = (1,2,3)\n",
    "\n",
    "dictionary = dict(zip(keys,values))\n",
    "print(dictionary)"
   ]
  },
  {
   "cell_type": "markdown",
   "metadata": {},
   "source": [
    "## Q 48:-Write a Python script to sort (ascending and descending) a dictionary by value."
   ]
  },
  {
   "cell_type": "code",
   "execution_count": 28,
   "metadata": {},
   "outputs": [
    {
     "name": "stdout",
     "output_type": "stream",
     "text": [
      "Original Order {'Gandhinagar': 3, 'Valsad': 2, 'Ahmedabad': 1}\n",
      "In ascending order {'Ahmedabad': 1, 'Valsad': 2, 'Gandhinagar': 3}\n",
      "In Descending order {'Gandhinagar': 3, 'Valsad': 2, 'Ahmedabad': 1}\n"
     ]
    }
   ],
   "source": [
    "d1 = {'Gandhinagar':3,'Valsad':2,'Ahmedabad':1}\n",
    "\n",
    "print(f\"Original Order {d1}\")\n",
    "sort_d1_ascend = dict(sorted(d1.items(), key=lambda item: item[1]))           \n",
    "sort_d1_descend = dict(sorted(d1.items(),key=lambda item: item[1],reverse= True))\n",
    "print(f\"In ascending order {sort_d1_ascend}\")\n",
    "print(f\"In Descending order {sort_d1_descend}\")\n",
    "\n"
   ]
  },
  {
   "cell_type": "markdown",
   "metadata": {},
   "source": [
    "## Q 49:-Write a Python script to concatenate following dictionaries to create a new one."
   ]
  },
  {
   "cell_type": "code",
   "execution_count": 4,
   "metadata": {},
   "outputs": [
    {
     "name": "stdout",
     "output_type": "stream",
     "text": [
      "Concatenate Dictionary {'a': 1, 'b': 2, 'c': 3, 'd': 4, 'e': 5, 'f': 6}\n"
     ]
    }
   ],
   "source": [
    "d_1 = {'a':1,'b':2,'c':3}\n",
    "d_2 = {'d':4,'e':5,'f':6}\n",
    "\n",
    "new_dict = {}\n",
    "\n",
    "new_dict.update(d_1)\n",
    "new_dict.update(d_2)\n",
    "new_dict\n",
    "\n",
    "print(f\"Concatenate Dictionary {new_dict}\")"
   ]
  },
  {
   "cell_type": "markdown",
   "metadata": {},
   "source": [
    "## Q 50:-Write a Python script to check if a given key already exists in a dictionary."
   ]
  },
  {
   "cell_type": "code",
   "execution_count": 3,
   "metadata": {},
   "outputs": [
    {
     "name": "stdout",
     "output_type": "stream",
     "text": [
      "City exists in the dictionary.\n"
     ]
    }
   ],
   "source": [
    "my_dict = {'Name':'Neha','age':21,'City':'Gandhinagar'}\n",
    "key_to_check = 'City'\n",
    "\n",
    "if key_to_check in my_dict:\n",
    "    print(f\"{key_to_check} exists in the dictionary.\")\n",
    "else:\n",
    "    print(f\"{key_to_check} does not exists in the dictionary.\")    "
   ]
  },
  {
   "cell_type": "markdown",
   "metadata": {},
   "source": [
    "## Q 51:-How Do You Traverse Through a Dictionary Object in Python?"
   ]
  },
  {
   "cell_type": "code",
   "execution_count": 8,
   "metadata": {},
   "outputs": [
    {
     "name": "stdout",
     "output_type": "stream",
     "text": [
      "Name : Neha\n",
      "age : 21\n",
      "City : Gandhinagar\n"
     ]
    }
   ],
   "source": [
    "# Iterating Through Keys:\n",
    "\n",
    "my_dict = {'Name':'Neha','age':21,'City':'Gandhinagar'}\n",
    "for key in my_dict:\n",
    "    print(key,\":\", my_dict[key])"
   ]
  },
  {
   "cell_type": "code",
   "execution_count": 10,
   "metadata": {},
   "outputs": [
    {
     "name": "stdout",
     "output_type": "stream",
     "text": [
      "Name : Neha\n",
      "age : 21\n",
      "City : Gandhinagar\n"
     ]
    }
   ],
   "source": [
    "# Iterating Through Values:\n",
    " \n",
    "my_dict = {'Name':'Neha','age':21,'City':'Gandhinagar'}\n",
    "for values in my_dict:\n",
    "    print(values,\":\",my_dict[values])"
   ]
  },
  {
   "cell_type": "markdown",
   "metadata": {},
   "source": [
    "## Q 52:-How Do You Check the Presence of a Key in A Dictionary? "
   ]
  },
  {
   "cell_type": "code",
   "execution_count": 11,
   "metadata": {},
   "outputs": [
    {
     "name": "stdout",
     "output_type": "stream",
     "text": [
      "Name is present in dictionary.\n"
     ]
    }
   ],
   "source": [
    "my_dict = {'Name':'Neha','Age':21,'City':'Gandhinagar'}\n",
    "presence_key = 'Name'\n",
    "\n",
    "if presence_key in my_dict:\n",
    "    print(f\"{presence_key} is present in dictionary.\")\n",
    "else:\n",
    "    print(f\"{presence_key} is not present in dictionary.\")    "
   ]
  },
  {
   "cell_type": "markdown",
   "metadata": {},
   "source": [
    "## Q 53:-Write a Python script to print a dictionary where the keys are numbers between 1 and 15. "
   ]
  },
  {
   "cell_type": "code",
   "execution_count": 14,
   "metadata": {},
   "outputs": [
    {
     "name": "stdout",
     "output_type": "stream",
     "text": [
      "{1: 1, 2: 2, 3: 3, 4: 4, 5: 5, 6: 6, 7: 7, 8: 8, 9: 9, 10: 10, 11: 11, 12: 12, 13: 13, 14: 14, 15: 15}\n"
     ]
    }
   ],
   "source": [
    "numbers = [1,2,3,4,5,6,7,8,9,10,11,12,13,14,15]\n",
    "my_dict = {}\n",
    "\n",
    "for num in numbers:\n",
    "    my_dict[num] = num\n",
    "print(my_dict)\n"
   ]
  },
  {
   "cell_type": "markdown",
   "metadata": {},
   "source": [
    "## Q 54:-Write a Python program to check multiple keys exists in a dictionary."
   ]
  },
  {
   "cell_type": "code",
   "execution_count": 16,
   "metadata": {},
   "outputs": [
    {
     "name": "stdout",
     "output_type": "stream",
     "text": [
      "All keys exist in the dictionary.\n"
     ]
    }
   ],
   "source": [
    "fruit_dict = {'apple': 10, 'banana': 5, 'cherry': 20}\n",
    "\n",
    "keys_to_check = ['apple', 'banana','cherry']\n",
    "\n",
    "if all(key in fruit_dict for key in keys_to_check):\n",
    "    print(\"All keys exist in the dictionary.\")\n",
    "else:\n",
    "    print(\"Not all keys exist in the dictionary.\")"
   ]
  },
  {
   "cell_type": "markdown",
   "metadata": {},
   "source": [
    "## Q 55:-Write a Python script to merge two Python dictionaries."
   ]
  },
  {
   "cell_type": "code",
   "execution_count": 16,
   "metadata": {},
   "outputs": [
    {
     "name": "stdout",
     "output_type": "stream",
     "text": [
      "{'a': 1, 'b': 2, 'c': 3, 'd': 4, 'e': 5, 'f': 6}\n"
     ]
    }
   ],
   "source": [
    "dict_1 = {'a':1,'b':2,'c':3}\n",
    "dict_2 = {'d':4,'e':5,'f':6}\n",
    "\n",
    "dict_1.update(dict_2)\n",
    "print(dict_1)"
   ]
  },
  {
   "cell_type": "markdown",
   "metadata": {},
   "source": [
    "## Q 56:-Write a Python program to map two lists into a dictionary Sample output: \n",
    "            Counter ({'a': 400, 'b': 400,’d’: 400, 'c': 300})."
   ]
  },
  {
   "cell_type": "code",
   "execution_count": 7,
   "metadata": {},
   "outputs": [
    {
     "name": "stdout",
     "output_type": "stream",
     "text": [
      "Mapped dictionary: {'a': 400, 'b': 400, 'd': 400, 'c': 300}\n"
     ]
    }
   ],
   "source": [
    "keys = ['a', 'b', 'd', 'c']\n",
    "values = [400, 400, 400, 300 ]\n",
    "\n",
    "mapped_dict = (dict(zip(keys, values)))\n",
    "\n",
    "print(\"Mapped dictionary:\", mapped_dict)"
   ]
  },
  {
   "cell_type": "markdown",
   "metadata": {},
   "source": [
    "## Q 57:-Write a Python program to find the highest 3 values in a dictionary."
   ]
  },
  {
   "cell_type": "code",
   "execution_count": 24,
   "metadata": {},
   "outputs": [
    {
     "name": "stdout",
     "output_type": "stream",
     "text": [
      "The highest three values are [97, 77, 60]\n"
     ]
    }
   ],
   "source": [
    "data = {'a': 50, 'b': 22, 'c': 77, 'd': 19, 'e': 97, 'f': 60}\n",
    "\n",
    "sorted_values = sorted(data.values(),reverse= True)\n",
    "highest_3_values = sorted_values[:3]\n",
    "\n",
    "print(f\"The highest three values are {highest_3_values}\")"
   ]
  },
  {
   "cell_type": "markdown",
   "metadata": {},
   "source": [
    "## Q 58:-Write a Python program to combine values in python list of dictionaries. \n",
    "            Sample data: [{'item': 'item1', 'amount': 400}, {'item': 'item2', 'amount': 300}, o {'item': 'item1', 'amount': 750}] \n",
    "           \n",
    "            Expected Output: Counter ({'item1': 1150, 'item2': 300})\n"
   ]
  },
  {
   "cell_type": "code",
   "execution_count": 17,
   "metadata": {},
   "outputs": [
    {
     "name": "stdout",
     "output_type": "stream",
     "text": [
      "Counter({'item1': 1150, 'item2': 300})\n"
     ]
    }
   ],
   "source": [
    "from collections import Counter\n",
    "\n",
    "data = [{'item': 'item1', 'amount': 400}, {'item': 'item2', 'amount': 300}, {'item': 'item1', 'amount': 750}]\n",
    "\n",
    "result = Counter()\n",
    "\n",
    "for entry in data:\n",
    "    result[entry['item']] += entry['amount']\n",
    "\n",
    "print(result)"
   ]
  },
  {
   "cell_type": "markdown",
   "metadata": {},
   "source": [
    "## Q 59:-Write a Python program to create a dictionary from a string. \n",
    "         Note: Track the count of the letters from the string. "
   ]
  },
  {
   "cell_type": "code",
   "execution_count": 19,
   "metadata": {},
   "outputs": [
    {
     "name": "stdout",
     "output_type": "stream",
     "text": [
      "Letter count dictionary: {'l': 1, 'e': 1, 'a': 1, 'r': 1, 'n': 2, 'i': 1, 'g': 1}\n"
     ]
    }
   ],
   "source": [
    "input_string = \"learning\"\n",
    "letter_count = {}\n",
    "\n",
    "for char in input_string:\n",
    "    if char in letter_count:\n",
    "        letter_count[char] += 1\n",
    "    else:\n",
    "        letter_count[char] = 1\n",
    "        \n",
    "print(\"Letter count dictionary:\", letter_count)"
   ]
  },
  {
   "cell_type": "markdown",
   "metadata": {},
   "source": [
    "## Q 60:-Sample string:'w3resource' \n",
    "            Expected output: {'3': 1,'s': 1, 'r': 2, 'u': 1, 'w': 1, 'c': 1, 'e': 2, 'o': 1}\n"
   ]
  },
  {
   "cell_type": "code",
   "execution_count": 21,
   "metadata": {},
   "outputs": [
    {
     "name": "stdout",
     "output_type": "stream",
     "text": [
      "Character frequency: {'w': 1, '3': 1, 'r': 2, 'e': 2, 's': 1, 'o': 1, 'u': 1, 'c': 1}\n"
     ]
    }
   ],
   "source": [
    "from collections import Counter\n",
    "\n",
    "s = 'w3resource'\n",
    "char_count = Counter(s)\n",
    "print(\"Character frequency:\", dict(char_count))"
   ]
  },
  {
   "cell_type": "markdown",
   "metadata": {},
   "source": [
    "## Q 61:-Write a Python function to calculate the factorial of a number (a nonnegative integer)."
   ]
  },
  {
   "cell_type": "code",
   "execution_count": 8,
   "metadata": {},
   "outputs": [
    {
     "name": "stdout",
     "output_type": "stream",
     "text": [
      "Factorial of 6 is 720\n"
     ]
    }
   ],
   "source": [
    "def factorial(n):\n",
    "    if n == 1:\n",
    "        return 1\n",
    "    return n * factorial(n - 1)\n",
    "n = 6\n",
    "result = factorial(n)\n",
    "print(f\"Factorial of {n} is {result}\")  \n"
   ]
  },
  {
   "cell_type": "markdown",
   "metadata": {},
   "source": [
    "## Q 62:-Write a Python function to check whether a number is in a given range."
   ]
  },
  {
   "cell_type": "code",
   "execution_count": 10,
   "metadata": {},
   "outputs": [
    {
     "name": "stdout",
     "output_type": "stream",
     "text": [
      "10 is in the range of 5 to 20.\n"
     ]
    }
   ],
   "source": [
    "def is_in_range(num, start, end):\n",
    "    return start <= num <= end\n",
    "\n",
    "num = int(input(\"Enter number : \"))\n",
    "start = int(input(\"Enter starting number : \"))\n",
    "end = int(input(\"Enter ending number : \"))\n",
    "\n",
    "if is_in_range(num, start, end):\n",
    "    print(f\"{num} is in the range of {start} to {end}.\")\n",
    "else:\n",
    "    print(f\"{num} is NOT in the range of {start} to {end}.\")\n"
   ]
  },
  {
   "cell_type": "markdown",
   "metadata": {},
   "source": [
    "## Q 63:-Write a Python function to check whether a number is perfect or not."
   ]
  },
  {
   "cell_type": "code",
   "execution_count": 10,
   "metadata": {},
   "outputs": [
    {
     "name": "stdout",
     "output_type": "stream",
     "text": [
      "5 is not a perfect number\n"
     ]
    }
   ],
   "source": [
    "def is_perfect_number(num):\n",
    "    if num <= 0:\n",
    "        return False\n",
    "        \n",
    "    divisors_sum = 0\n",
    "    for i in range(1, num):\n",
    "        if num % i == 0:\n",
    "            divisors_sum += i\n",
    "\n",
    "    return divisors_sum == num\n",
    "\n",
    "num = int(input(\"Enter any number : \"))\n",
    "\n",
    "if is_perfect_number(num):\n",
    "    print(f\"{num} is a perfect number\")\n",
    "else:\n",
    "    print(f\"{num} is not a perfect number\")"
   ]
  },
  {
   "cell_type": "markdown",
   "metadata": {},
   "source": [
    "## Q 64:-Write a Python function that checks whether a passed string is palindrome or not. \n"
   ]
  },
  {
   "cell_type": "code",
   "execution_count": 16,
   "metadata": {},
   "outputs": [
    {
     "name": "stdout",
     "output_type": "stream",
     "text": [
      "maam is a palindrome.\n"
     ]
    }
   ],
   "source": [
    "def palindrome(s):\n",
    "    return s == s[::-1]  \n",
    "\n",
    "word = \"maam\"\n",
    "if palindrome(word):\n",
    "    print(f\"{word} is a palindrome.\")\n",
    "else:\n",
    "    print(f\"{word} is NOT a palindrome.\")"
   ]
  },
  {
   "cell_type": "markdown",
   "metadata": {},
   "source": [
    "## Q 65:-How Many Basic Types of Functions Are Available in Python?"
   ]
  },
  {
   "cell_type": "markdown",
   "metadata": {},
   "source": [
    "Ans:- There are four basic types of Functions.\n",
    "     (1) Built-in Functions.\n",
    "          These are pre-defined functions in Python that are readily available.\n",
    "     (2) User-defined Functions.\n",
    "          These are functions created by the programmer using the def keyword.\n",
    "     (3) Lambda (Anonymous) Functions.\n",
    "          These are short, one-line functions without a name.\n",
    "     (4) Recursive Functions.\n",
    "          A function that calls itself to solve a problem."
   ]
  },
  {
   "cell_type": "markdown",
   "metadata": {},
   "source": [
    "## Q 66:-How can you pick a random item from a list or tuple?"
   ]
  },
  {
   "cell_type": "code",
   "execution_count": 18,
   "metadata": {},
   "outputs": [
    {
     "name": "stdout",
     "output_type": "stream",
     "text": [
      "cherry\n"
     ]
    }
   ],
   "source": [
    "import random\n",
    "\n",
    "fruits = [\"apple\", \"banana\", \"cherry\", \"grape\"]\n",
    "random_fruit = random.choice(fruits)\n",
    "\n",
    "print(random_fruit)  \n"
   ]
  },
  {
   "cell_type": "markdown",
   "metadata": {},
   "source": [
    "## Q 67:-How can you pick a random item from a range?"
   ]
  },
  {
   "cell_type": "code",
   "execution_count": 24,
   "metadata": {},
   "outputs": [
    {
     "name": "stdout",
     "output_type": "stream",
     "text": [
      "14\n"
     ]
    }
   ],
   "source": [
    "import random\n",
    "\n",
    "random_number = random.randrange(10, 20, 1)  \n",
    "print(random_number)  \n"
   ]
  },
  {
   "cell_type": "markdown",
   "metadata": {},
   "source": [
    "## Q 68:-How can you get a random number in python?"
   ]
  },
  {
   "cell_type": "code",
   "execution_count": 17,
   "metadata": {},
   "outputs": [
    {
     "name": "stdout",
     "output_type": "stream",
     "text": [
      "9\n"
     ]
    }
   ],
   "source": [
    "import random \n",
    "\n",
    "random_integer = random.randint(1,20)\n",
    "print(random_integer)"
   ]
  },
  {
   "cell_type": "markdown",
   "metadata": {},
   "source": [
    "## Q 69:-How will you set the starting value in generating random numbers?"
   ]
  },
  {
   "cell_type": "markdown",
   "metadata": {},
   "source": [
    "Ans:- In Python, you can set the starting value for generating random numbers by using a seed. \n",
    "      The seed ensures that the sequence of random numbers is reproducible.\n",
    "      If you provide the same seed value every time, you'll get the same sequence of random numbers."
   ]
  },
  {
   "cell_type": "code",
   "execution_count": 18,
   "metadata": {},
   "outputs": [
    {
     "name": "stdout",
     "output_type": "stream",
     "text": [
      "61\n",
      "0.2689949546566046\n",
      "5.762176990491853\n"
     ]
    }
   ],
   "source": [
    "import random\n",
    "\n",
    "random.seed(12)\n",
    "\n",
    "print(random.randint(1, 100))\n",
    "print(random.random())\n",
    "print(random.uniform(1, 10))"
   ]
  },
  {
   "cell_type": "markdown",
   "metadata": {},
   "source": [
    "## Q 70:- How will you randomize the items of a list in place?"
   ]
  },
  {
   "cell_type": "code",
   "execution_count": 19,
   "metadata": {},
   "outputs": [
    {
     "name": "stdout",
     "output_type": "stream",
     "text": [
      "[5, 1, 4, 2, 3]\n"
     ]
    }
   ],
   "source": [
    "import random\n",
    "my_list = [1, 2, 3, 4, 5]\n",
    "\n",
    "random.shuffle(my_list)\n",
    "print(my_list)\n"
   ]
  },
  {
   "cell_type": "markdown",
   "metadata": {},
   "source": [
    "## Q 71:-What is File function in python? What are keywords to create and write file."
   ]
  },
  {
   "cell_type": "markdown",
   "metadata": {},
   "source": [
    "Ans:- In Python, file functions allow you to work with files on your system. These functions enable you to open, read, write, close, and manipulate files.\n",
    "      Keywords to create and write:-\n",
    "        ~ 'w' (Write mode)\n",
    "              Creates a new file if it doesn't exist or overwrites the file if it does\n",
    "        ~ 'a' (Append mode)\n",
    "              Opens the file for appending and creates a new file if it doesn't exist.      "
   ]
  },
  {
   "cell_type": "markdown",
   "metadata": {},
   "source": [
    "## Q 72:-Write a Python program to read an entire text file."
   ]
  },
  {
   "cell_type": "code",
   "execution_count": 26,
   "metadata": {},
   "outputs": [
    {
     "name": "stdout",
     "output_type": "stream",
     "text": [
      "Hello!!!\n",
      "All Good?!\n",
      "How was your day???\n",
      "How was your day???\n",
      "What's Your Next Plan?\n",
      "What's Your Next Plan?\n"
     ]
    }
   ],
   "source": [
    "f = open(\"sample.txt\",'r')\n",
    "s = f.read()\n",
    "print(s)\n",
    "f.close()"
   ]
  },
  {
   "cell_type": "markdown",
   "metadata": {},
   "source": [
    "## Q 73:-Write a Python program to append text to a file and display the text."
   ]
  },
  {
   "cell_type": "code",
   "execution_count": null,
   "metadata": {},
   "outputs": [
    {
     "name": "stdout",
     "output_type": "stream",
     "text": [
      "Hello!!!\n",
      "All Good?!\n",
      "How was your day???\n",
      "How was your day???\n",
      "What's Your Next Plan?\n",
      "What's Your Next Plan?\n"
     ]
    }
   ],
   "source": [
    "f = open(\"sample.txt\",'a')\n",
    "f.write(\"\\nWhat's Your Next Plan?\")\n",
    "f.close()\n",
    "f = open(\"sample.txt\",'r')\n",
    "s = f.read()\n",
    "print(s)\n",
    "f.close()"
   ]
  },
  {
   "cell_type": "markdown",
   "metadata": {},
   "source": [
    "## Q 74:-Write a Python program to read first n lines of a file."
   ]
  },
  {
   "cell_type": "code",
   "execution_count": 48,
   "metadata": {},
   "outputs": [
    {
     "name": "stdout",
     "output_type": "stream",
     "text": [
      "Hello!!!\n",
      "All Good?!\n"
     ]
    }
   ],
   "source": [
    "f = open(\"sample.txt\",'r')\n",
    "for i in range(2):\n",
    "    line = f.readline()\n",
    "    if line == '':\n",
    "        break\n",
    "    print(line,end = \"\")\n",
    "f.close()    "
   ]
  },
  {
   "cell_type": "markdown",
   "metadata": {},
   "source": [
    "## Q 75:-Write a Python program to read last n lines of a file."
   ]
  },
  {
   "cell_type": "code",
   "execution_count": 52,
   "metadata": {},
   "outputs": [
    {
     "name": "stdout",
     "output_type": "stream",
     "text": [
      "How was your day???\n",
      "What's Your Next Plan?\n",
      "What's Your Next Plan?"
     ]
    }
   ],
   "source": [
    "f = open(\"sample.txt\",'r')\n",
    "n = 3\n",
    "lines = f.readlines()\n",
    "last_n_lines = lines[-n:]\n",
    "for line in last_n_lines:\n",
    "    print(line, end=\"\")\n",
    "f.close() "
   ]
  },
  {
   "cell_type": "markdown",
   "metadata": {},
   "source": [
    "## Q 76:-Write a Python program to read a file line by line and store it into a list."
   ]
  },
  {
   "cell_type": "code",
   "execution_count": 55,
   "metadata": {},
   "outputs": [
    {
     "name": "stdout",
     "output_type": "stream",
     "text": [
      "['Hello!!!\\n', 'All Good?!\\n', 'How was your day???\\n', 'How was your day???\\n', \"What's Your Next Plan?\\n\", \"What's Your Next Plan?\"]\n"
     ]
    }
   ],
   "source": [
    "f = open(\"sample.txt\",'r')\n",
    "lines_list = []\n",
    "for line in f:\n",
    "    lines_list.append(line)\n",
    "print(lines_list)    "
   ]
  },
  {
   "cell_type": "markdown",
   "metadata": {},
   "source": [
    "## Q 77:-Write a Python program to read a file line by line store it into a variable."
   ]
  },
  {
   "cell_type": "code",
   "execution_count": 58,
   "metadata": {},
   "outputs": [
    {
     "name": "stdout",
     "output_type": "stream",
     "text": [
      "Hello !!!\n",
      "How are you ??\n",
      "Hope you doing well..!!\n",
      "How was your day???\n"
     ]
    }
   ],
   "source": [
    "f = open(\"sample.txt\",'r')\n",
    "f_content = \"\"\n",
    "for line in f:\n",
    "    f_content += line\n",
    "print(f_content)    "
   ]
  },
  {
   "cell_type": "markdown",
   "metadata": {},
   "source": [
    "## Q 78:-Write a python program to find the longest words. "
   ]
  },
  {
   "cell_type": "code",
   "execution_count": 40,
   "metadata": {},
   "outputs": [
    {
     "name": "stdout",
     "output_type": "stream",
     "text": [
      "Longest Word is ['Learning']\n"
     ]
    }
   ],
   "source": [
    "text = \"I'm Learning Python\"\n",
    "words = text.split()\n",
    "max_length = max(len(word) for word in words)\n",
    "longest_word = [word for word in words if len(word) == max_length]\n",
    "print(f\"Longest Word is {longest_word}\")"
   ]
  },
  {
   "cell_type": "markdown",
   "metadata": {},
   "source": [
    "## Q 79:-Write a Python program to count the number of lines in a text file."
   ]
  },
  {
   "cell_type": "code",
   "execution_count": 61,
   "metadata": {},
   "outputs": [
    {
     "name": "stdout",
     "output_type": "stream",
     "text": [
      "Number of lines in the file : 6\n"
     ]
    }
   ],
   "source": [
    "f = open(\"sample.txt\",'r')\n",
    "line_count = 0\n",
    "for line in f:\n",
    "    line_count+=1\n",
    "print(f\"Number of lines in the file : {line_count}\")    "
   ]
  },
  {
   "cell_type": "markdown",
   "metadata": {},
   "source": [
    "## Q 80:-Write a Python program to count the frequency of words in a file."
   ]
  },
  {
   "cell_type": "code",
   "execution_count": 41,
   "metadata": {},
   "outputs": [
    {
     "name": "stdout",
     "output_type": "stream",
     "text": [
      "I'm:1\n",
      "Learning:1\n",
      "Python:1\n"
     ]
    }
   ],
   "source": [
    "from collections import Counter\n",
    "f = open(\"sample.txt\",'r')\n",
    "word_count = Counter(words)\n",
    "for word,count in word_count.items():\n",
    "    print(f\"{word}:{count}\")\n",
    "f.close()    "
   ]
  },
  {
   "cell_type": "markdown",
   "metadata": {},
   "source": [
    "## Q 81:-Write a Python program to write a list to a file."
   ]
  },
  {
   "cell_type": "code",
   "execution_count": 42,
   "metadata": {},
   "outputs": [
    {
     "name": "stdout",
     "output_type": "stream",
     "text": [
      "List successfully added\n"
     ]
    }
   ],
   "source": [
    "f = open(\"sample.txt\",'w')\n",
    "data_list = [\"Apple\", \"Banana\", \"Cherry\", \"Mango\", \"Orange\"]\n",
    "for item in data_list:\n",
    "    f.write(item + \"\\n\")\n",
    "print(\"List successfully added\")\n",
    "f.close()    \n"
   ]
  },
  {
   "cell_type": "markdown",
   "metadata": {},
   "source": [
    "## Q 82:-Write a Python program to copy the contents of a file to another file."
   ]
  },
  {
   "cell_type": "code",
   "execution_count": 24,
   "metadata": {},
   "outputs": [
    {
     "name": "stdout",
     "output_type": "stream",
     "text": [
      "Contents of 'sample.txt' have been copied to 'destination.txt'.\n"
     ]
    }
   ],
   "source": [
    "source_file_path = 'sample.txt'\n",
    "destination_file_path = 'destination.txt'\n",
    "\n",
    "with open(source_file_path, 'r') as source_file:\n",
    "    content = source_file.read()\n",
    "    \n",
    "with open(destination_file_path, 'w') as destination_file:\n",
    "    destination_file.write(content)\n",
    "\n",
    "print(f\"Contents of '{source_file_path}' have been copied to '{destination_file_path}'.\")"
   ]
  },
  {
   "cell_type": "markdown",
   "metadata": {},
   "source": [
    "## Q 83:-Explain Exception handling? What is an Error in Python?"
   ]
  },
  {
   "cell_type": "markdown",
   "metadata": {},
   "source": [
    "Ans:- Exception handling is a mechanism in Python that allows a program to handle runtime errors gracefully, preventing crashes and ensuring smooth execution.\n",
    "      It is implemented using try, except, else, and finally blocks."
   ]
  },
  {
   "cell_type": "code",
   "execution_count": 45,
   "metadata": {},
   "outputs": [
    {
     "name": "stdout",
     "output_type": "stream",
     "text": [
      "Error: Cannot divide by zero.\n",
      "Execution completed.\n"
     ]
    }
   ],
   "source": [
    "try:\n",
    "    num = int(input(\"Enter a number: \"))\n",
    "    result = 10 / num  \n",
    "except ZeroDivisionError:\n",
    "    print(\"Error: Cannot divide by zero.\")\n",
    "except ValueError:\n",
    "    print(\"Error: Invalid input, please enter a number.\")\n",
    "else:\n",
    "    print(\"Result:\", result)  \n",
    "finally:\n",
    "    print(\"Execution completed.\")  \n"
   ]
  },
  {
   "cell_type": "markdown",
   "metadata": {},
   "source": [
    "Errors in Python are of two main types:\n",
    "    (1) Syntax Errors (Compile-time errors):-\n",
    "            Occur when the syntax of the code is incorrect.\n",
    "    (2) Exceptions (Runtime errors):-\n",
    "            Occur during program execution and can be handled using try-except.        "
   ]
  },
  {
   "cell_type": "markdown",
   "metadata": {},
   "source": [
    "## Q 84:-How many except statements can a try-except block have? Name Some built-in exception classes: "
   ]
  },
  {
   "cell_type": "markdown",
   "metadata": {},
   "source": [
    "Ans:- A try-except block can have multiple except statements to handle different types of exceptions separately. However, only one except block is executed per exception.\n",
    "        Some Built-in Exception Classes in Python:\n",
    "                        ~ ZeroDivisionError - Raised when dividing by zero\n",
    "                        ~ ValueError - Raised for invalid type conversions\n",
    "                        ~ TypeError - Raised for invalid operations between different data types\n",
    "                        ~ IndexError -Raised when accessing an invalid index in a list or tuple\n",
    "                        ~ KeyError - Raised when accessing a non-existent key in a dictionary\n",
    "                        ~ FileNotFoundError - Raised when trying to open a non-existing file\n",
    "                        ~ AttributeError - Raised when an invalid attribute is accessed\n",
    "                        ~ NameError -Raised when trying to use an undefined variable\n",
    "                        ~ IndentationError - Raised due to incorrect indentation\n",
    "                        ~ ImportError - Raised when an import statement fails\n"
   ]
  },
  {
   "cell_type": "markdown",
   "metadata": {},
   "source": [
    "## Q 85:-When will the else part of try-except-else be executed?"
   ]
  },
  {
   "cell_type": "markdown",
   "metadata": {},
   "source": [
    "Ans :- The else block in a try-except-else structure is executed only if no exceptions occur in the try block."
   ]
  },
  {
   "cell_type": "markdown",
   "metadata": {},
   "source": [
    "## Q 86:-Can one block of except statements handle multiple exception?"
   ]
  },
  {
   "cell_type": "markdown",
   "metadata": {},
   "source": [
    "Ans :- Yes.A single except block can handle multiple exceptions by grouping them in a tuple. \n",
    "       This allows catching multiple error types in one block rather than writing separate except statements"
   ]
  },
  {
   "cell_type": "code",
   "execution_count": null,
   "metadata": {},
   "outputs": [
    {
     "name": "stdout",
     "output_type": "stream",
     "text": [
      "2.0\n"
     ]
    }
   ],
   "source": [
    "try:\n",
    "    num = int(input(\"Enter a number: \"))\n",
    "    result = 10 / num  \n",
    "except (ZeroDivisionError, ValueError) :\n",
    "    print(\"Error occurred.\")\n",
    "print(result)"
   ]
  },
  {
   "cell_type": "markdown",
   "metadata": {},
   "source": [
    "## Q 87:-When is the finally block executed?"
   ]
  },
  {
   "cell_type": "markdown",
   "metadata": {},
   "source": [
    "Ans :- The finally block always executes, regardless of whether an exception occurs in the try block or not."
   ]
  },
  {
   "cell_type": "code",
   "execution_count": 26,
   "metadata": {},
   "outputs": [
    {
     "name": "stdout",
     "output_type": "stream",
     "text": [
      "Execution completed.\n"
     ]
    }
   ],
   "source": [
    "try:\n",
    "    num = int(input(\"Enter a number: \"))\n",
    "    result = 10 / num  \n",
    "except ZeroDivisionError:\n",
    "    print(\"Error: Cannot divide by zero.\")\n",
    "except ValueError:\n",
    "    print(\"Error: Invalid input, please enter a number.\")      \n",
    "finally:\n",
    "    print(\"Execution completed.\")"
   ]
  },
  {
   "cell_type": "markdown",
   "metadata": {},
   "source": [
    "## Q 88:-What happens when „1‟== 1 is executed?"
   ]
  },
  {
   "cell_type": "code",
   "execution_count": 86,
   "metadata": {},
   "outputs": [
    {
     "name": "stdout",
     "output_type": "stream",
     "text": [
      "False\n"
     ]
    }
   ],
   "source": [
    "result = \"1\" == 1\n",
    "print(result)\n"
   ]
  },
  {
   "cell_type": "markdown",
   "metadata": {},
   "source": [
    "## Q 89:-How Do You Handle Exceptions with Try/Except/Finally in Python?Explain with coding snippets."
   ]
  },
  {
   "cell_type": "markdown",
   "metadata": {},
   "source": [
    "Ans :- In Python, you can handle exceptions using try, except, and finally blocks.\n",
    "            Try to execute code that might raise an exception.\n",
    "            Catch the exception using except and handle it.\n",
    "            Execute the finally block for cleanup, regardless of whether an exception occurred or not.           "
   ]
  },
  {
   "cell_type": "code",
   "execution_count": 46,
   "metadata": {},
   "outputs": [
    {
     "name": "stdout",
     "output_type": "stream",
     "text": [
      "Error: Invalid input! Please enter a valid integer.\n"
     ]
    }
   ],
   "source": [
    "#(1) Basic Try/Except Block: If an error occurs in the try block, it will be caught by the except block, and the program won't crash. \n",
    "try:\n",
    "    num = int(input(\"Enter a number: \"))  \n",
    "    print(\"Number entered:\", num)\n",
    "except ValueError:\n",
    "    print(\"Error: Invalid input! Please enter a valid integer.\")\n"
   ]
  },
  {
   "cell_type": "code",
   "execution_count": 88,
   "metadata": {},
   "outputs": [
    {
     "name": "stdout",
     "output_type": "stream",
     "text": [
      "Result: 0.7142857142857143\n"
     ]
    }
   ],
   "source": [
    "#2. Try/Except with Multiple Exceptions: You can catch different types of exceptions in separate except blocks or together.\n",
    "try:\n",
    "    num1 = int(input(\"Enter a number: \"))\n",
    "    num2 = int(input(\"Enter another number: \"))\n",
    "    result = num1 / num2  \n",
    "    print(\"Result:\", result)\n",
    "except ZeroDivisionError:\n",
    "    print(\"Error: Division by zero is not allowed.\")\n",
    "except ValueError:\n",
    "    print(\"Error: Invalid input! Please enter a valid integer.\")\n"
   ]
  },
  {
   "cell_type": "code",
   "execution_count": 89,
   "metadata": {},
   "outputs": [
    {
     "name": "stdout",
     "output_type": "stream",
     "text": [
      "Result: 0.8333333333333334\n"
     ]
    }
   ],
   "source": [
    "#(3) Using else with Try/Except: The else block is executed if no exceptions are raised in the try block.\n",
    "try:\n",
    "    num = int(input(\"Enter a number: \"))\n",
    "    result = 10 / num  \n",
    "except ZeroDivisionError:\n",
    "    print(\"Error: Cannot divide by zero.\")\n",
    "except ValueError:\n",
    "    print(\"Error: Invalid input, please enter a number.\")\n",
    "else:\n",
    "    print(\"Result:\", result) \n"
   ]
  },
  {
   "cell_type": "code",
   "execution_count": 90,
   "metadata": {},
   "outputs": [
    {
     "name": "stdout",
     "output_type": "stream",
     "text": [
      "Result: 2.0\n",
      "Program Completed\n"
     ]
    }
   ],
   "source": [
    "# (4) 4. Using finally with Try/Except: The finally block always executes, regardless of whether an exception occurred or not.\n",
    "try:\n",
    "    num = int(input(\"Enter a number: \"))\n",
    "    result = 10 / num  \n",
    "except ZeroDivisionError:\n",
    "    print(\"Error: Cannot divide by zero.\")\n",
    "except ValueError:\n",
    "    print(\"Error: Invalid input, please enter a number.\")\n",
    "else:\n",
    "    print(\"Result:\", result) \n",
    "finally:\n",
    "    print(\"Program Completed\")\n"
   ]
  },
  {
   "cell_type": "markdown",
   "metadata": {},
   "source": [
    "## Q 90:-Write python program that user to enter only odd numbers, else will raise an exception."
   ]
  },
  {
   "cell_type": "code",
   "execution_count": 48,
   "metadata": {},
   "outputs": [],
   "source": [
    "def check_odd_number(number):\n",
    "    if number % 2 == 0:\n",
    "        raise ValueError(f\"The number {number} is not odd.\")\n",
    "try:\n",
    "    user_input = int(input(\"Enter an odd number: \"))\n",
    "    check_odd_number(user_input)\n",
    "except ValueError as e:\n",
    "    print(e)\n",
    "except:\n",
    "    print(\"Invalid input! Please enter an integer.\")\n"
   ]
  }
 ],
 "metadata": {
  "kernelspec": {
   "display_name": "Python 3",
   "language": "python",
   "name": "python3"
  },
  "language_info": {
   "codemirror_mode": {
    "name": "ipython",
    "version": 3
   },
   "file_extension": ".py",
   "mimetype": "text/x-python",
   "name": "python",
   "nbconvert_exporter": "python",
   "pygments_lexer": "ipython3",
   "version": "3.13.1"
  }
 },
 "nbformat": 4,
 "nbformat_minor": 2
}
