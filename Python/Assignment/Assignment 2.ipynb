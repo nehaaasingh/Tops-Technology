{
 "cells": [
  {
   "cell_type": "markdown",
   "metadata": {},
   "source": [
    "## Module 8 DA- Working with NumPy (python)"
   ]
  },
  {
   "cell_type": "markdown",
   "metadata": {},
   "source": [
    "### Q-1:- How to Creating a 3x3 Identity Matrix with Float Data Type? "
   ]
  },
  {
   "cell_type": "code",
   "execution_count": null,
   "metadata": {},
   "outputs": [
    {
     "data": {
      "text/plain": [
       "array([[1., 0., 0.],\n",
       "       [0., 1., 0.],\n",
       "       [0., 0., 1.]])"
      ]
     },
     "execution_count": 4,
     "metadata": {},
     "output_type": "execute_result"
    }
   ],
   "source": [
    "import numpy as np\n",
    "\n",
    "a = np.identity(3)\n",
    "a"
   ]
  },
  {
   "cell_type": "code",
   "execution_count": 5,
   "metadata": {},
   "outputs": [
    {
     "data": {
      "text/plain": [
       "array([[1., 0., 0.],\n",
       "       [0., 1., 0.],\n",
       "       [0., 0., 1.]])"
      ]
     },
     "execution_count": 5,
     "metadata": {},
     "output_type": "execute_result"
    }
   ],
   "source": [
    "np.eye(3)"
   ]
  },
  {
   "cell_type": "markdown",
   "metadata": {},
   "source": [
    "### Q-2:- Create a 1D Array with Random Values between 0 and 1."
   ]
  },
  {
   "cell_type": "code",
   "execution_count": 12,
   "metadata": {},
   "outputs": [
    {
     "data": {
      "text/plain": [
       "array([0.92480672, 0.8346792 , 0.28238553, 0.69434623, 0.9361291 ])"
      ]
     },
     "execution_count": 12,
     "metadata": {},
     "output_type": "execute_result"
    }
   ],
   "source": [
    "import numpy as np\n",
    "\n",
    "random_values = np.random.rand(5)\n",
    "random_values"
   ]
  },
  {
   "cell_type": "markdown",
   "metadata": {},
   "source": [
    "### Q-3:- Create a 2D Array with Random Integer Values."
   ]
  },
  {
   "cell_type": "code",
   "execution_count": 23,
   "metadata": {},
   "outputs": [
    {
     "data": {
      "text/plain": [
       "array([[13, 27, 12],\n",
       "       [36, 15, 18]], dtype=int32)"
      ]
     },
     "execution_count": 23,
     "metadata": {},
     "output_type": "execute_result"
    }
   ],
   "source": [
    "import numpy as np\n",
    "\n",
    "random_int = np.random.randint(1,50,6).reshape(2,3)\n",
    "random_int"
   ]
  },
  {
   "cell_type": "markdown",
   "metadata": {},
   "source": [
    "### Q-4:- Creating an Array Using a Custom Function."
   ]
  },
  {
   "cell_type": "code",
   "execution_count": 2,
   "metadata": {},
   "outputs": [
    {
     "data": {
      "text/plain": [
       "array([[0., 0., 0.],\n",
       "       [0., 1., 2.],\n",
       "       [0., 2., 4.]])"
      ]
     },
     "execution_count": 2,
     "metadata": {},
     "output_type": "execute_result"
    }
   ],
   "source": [
    "import numpy as np\n",
    "\n",
    "def custom_func(a,b):\n",
    "    return a * b\n",
    "\n",
    "array = np.fromfunction(custom_func,(3,3))\n",
    "array"
   ]
  },
  {
   "cell_type": "markdown",
   "metadata": {},
   "source": [
    "### Q-5:- Reshaping a 1D Array into a 2D Array \n"
   ]
  },
  {
   "cell_type": "code",
   "execution_count": 4,
   "metadata": {},
   "outputs": [
    {
     "name": "stdout",
     "output_type": "stream",
     "text": [
      "Before reshaping:\n",
      "[1 2 3 4]\n",
      "After reshaping:-\n",
      "[[1 2]\n",
      " [3 4]]\n"
     ]
    }
   ],
   "source": [
    "import numpy as np\n",
    "\n",
    "print(\"Before reshaping:\")\n",
    "a = np.array([1,2,3,4])\n",
    "print(a)\n",
    "print(\"After reshaping:-\")\n",
    "b = a.reshape(2,2)\n",
    "print(b)\n"
   ]
  },
  {
   "cell_type": "code",
   "execution_count": 54,
   "metadata": {},
   "outputs": [
    {
     "data": {
      "text/plain": [
       "array([1, 2, 3, 4, 5, 6])"
      ]
     },
     "execution_count": 54,
     "metadata": {},
     "output_type": "execute_result"
    }
   ],
   "source": [
    "a = np.array([1,2,3,4,5,6])\n",
    "a"
   ]
  },
  {
   "cell_type": "code",
   "execution_count": 55,
   "metadata": {},
   "outputs": [
    {
     "data": {
      "text/plain": [
       "array([[1, 2, 3],\n",
       "       [4, 5, 6]])"
      ]
     },
     "execution_count": 55,
     "metadata": {},
     "output_type": "execute_result"
    }
   ],
   "source": [
    "a.reshape(2,3)"
   ]
  },
  {
   "cell_type": "markdown",
   "metadata": {},
   "source": [
    "### Q-6:- How to Creating a 3x3 Array of Ones? \n"
   ]
  },
  {
   "cell_type": "code",
   "execution_count": 5,
   "metadata": {},
   "outputs": [
    {
     "data": {
      "text/plain": [
       "array([[1., 1., 1.],\n",
       "       [1., 1., 1.],\n",
       "       [1., 1., 1.]])"
      ]
     },
     "execution_count": 5,
     "metadata": {},
     "output_type": "execute_result"
    }
   ],
   "source": [
    "import numpy as np\n",
    "\n",
    "ones_array = np.ones((3,3))\n",
    "ones_array"
   ]
  },
  {
   "cell_type": "markdown",
   "metadata": {},
   "source": [
    "### Q-7:- How to get the common items between two pythons in NumPY\n",
    "####          Input:\n",
    "####           a = np. array ([1,2,3,2,3,4,3,4,5,6])\n",
    "####           b = np. array ([7,2,10,2,7,4,9,4,9,8])\n",
    "####          Expected Output:\n",
    "####            array ([2, 4]) \n",
    " \n"
   ]
  },
  {
   "cell_type": "code",
   "execution_count": 62,
   "metadata": {},
   "outputs": [
    {
     "data": {
      "text/plain": [
       "array([2, 4])"
      ]
     },
     "execution_count": 62,
     "metadata": {},
     "output_type": "execute_result"
    }
   ],
   "source": [
    "import numpy as np\n",
    "\n",
    "a = np.array([1,2,3,2,3,4,3,4,5,6])\n",
    "b = np. array ([7,2,10,2,7,4,9,4,9,8])\n",
    "\n",
    "np.intersect1d(a,b)"
   ]
  },
  {
   "cell_type": "markdown",
   "metadata": {},
   "source": [
    "### Q-8:- From array a remove all items present in array \n",
    "#### Input:\n",
    "####       a = np. array ([1,2,3,4,5])\n",
    "####       b = np. array ([5,6,7,8,9])\n",
    "#### Expected Output:\n",
    "####       array ([1,2,3,4])"
   ]
  },
  {
   "cell_type": "code",
   "execution_count": 63,
   "metadata": {},
   "outputs": [
    {
     "data": {
      "text/plain": [
       "array([1, 2, 3, 4])"
      ]
     },
     "execution_count": 63,
     "metadata": {},
     "output_type": "execute_result"
    }
   ],
   "source": [
    "import numpy as np\n",
    "\n",
    "a = np. array ([1,2,3,4,5])\n",
    "b = np. array ([5,6,7,8,9])\n",
    "\n",
    "np.setdiff1d(a,b)\n"
   ]
  },
  {
   "cell_type": "markdown",
   "metadata": {},
   "source": [
    "### Q-9:-  Limit the number of items printed in python NumPy array a to a maximum of 6 elements. \n",
    "#### a = np. arrange (15)\n",
    "#### Expected Output:\n",
    "####   array ([ 0, 1, 2, ..., 12, 13, 14] )\n"
   ]
  },
  {
   "cell_type": "code",
   "execution_count": 6,
   "metadata": {},
   "outputs": [
    {
     "data": {
      "text/plain": [
       "array([ 0,  1,  2,  3,  4,  5,  6,  7,  8,  9, 10, 11, 12, 13, 14])"
      ]
     },
     "execution_count": 6,
     "metadata": {},
     "output_type": "execute_result"
    }
   ],
   "source": [
    "import numpy as np\n",
    "\n",
    "a = np.arange(15)\n",
    "a"
   ]
  },
  {
   "cell_type": "markdown",
   "metadata": {},
   "source": [
    "### Q-10:- Drop all nan values from a 1D NumPy\n",
    "####       array Input:\n",
    "####          np. array ([1,2,3, np.nan,5,6,7, np.nan])\n",
    "####       Desired Output:\n",
    "####         array ([ 1., 2., 3., 5., 6., 7.]) "
   ]
  },
  {
   "cell_type": "code",
   "execution_count": 72,
   "metadata": {},
   "outputs": [
    {
     "data": {
      "text/plain": [
       "array([1., 2., 3., 5., 6., 7.])"
      ]
     },
     "execution_count": 72,
     "metadata": {},
     "output_type": "execute_result"
    }
   ],
   "source": [
    "import numpy as np\n",
    "\n",
    "a = np.array([1,2,3,np.nan,5,6,7,np.nan])\n",
    "\n",
    "a[~ np.isnan(a)]"
   ]
  },
  {
   "cell_type": "markdown",
   "metadata": {},
   "source": [
    "### Q-11:- Create a 1D NumPy array of the first 20 natural numbers and a 2D NumPy array of shape (4, 5) with values ranging from 1 to 20."
   ]
  },
  {
   "cell_type": "code",
   "execution_count": 9,
   "metadata": {},
   "outputs": [
    {
     "name": "stdout",
     "output_type": "stream",
     "text": [
      "1D Array of first 20 natural numbers:\n",
      "[ 1  2  3  4  5  6  7  8  9 10 11 12 13 14 15 16 17 18 19 20]\n",
      "2D array of first 20 natural numbers:\n",
      "[[ 1  2  3  4  5]\n",
      " [ 6  7  8  9 10]\n",
      " [11 12 13 14 15]\n",
      " [16 17 18 19 20]]\n"
     ]
    }
   ],
   "source": [
    "import numpy as np\n",
    "\n",
    "print(\"1D Array of first 20 natural numbers:\")\n",
    "array_1D = np.arange(1,21)\n",
    "print(array_1D)\n",
    "\n",
    "print(\"2D array of first 20 natural numbers:\")\n",
    "array_2D = array_1D.reshape(4,5)\n",
    "print(array_2D)"
   ]
  },
  {
   "cell_type": "markdown",
   "metadata": {},
   "source": [
    "### Q-12:- Given a 3D NumPy array of shape (2, 3, 4), find its shape, size, number of dimensions, and data type. Change its data type to float64 and verify the change."
   ]
  },
  {
   "cell_type": "code",
   "execution_count": 21,
   "metadata": {},
   "outputs": [
    {
     "name": "stdout",
     "output_type": "stream",
     "text": [
      "[[[ 0  1  2  3]\n",
      "  [ 4  5  6  7]\n",
      "  [ 8  9 10 11]]\n",
      "\n",
      " [[12 13 14 15]\n",
      "  [16 17 18 19]\n",
      "  [20 21 22 23]]]\n",
      "\n",
      "Shape of array : (2, 3, 4)\n",
      "Size of a array : 24\n",
      "Number of dimension : 3\n",
      "Data Type is : int64\n",
      "\n",
      "Changed data type is :float64 \n",
      "After changing its data type to float:\n",
      "[[[ 0.  1.  2.  3.]\n",
      "  [ 4.  5.  6.  7.]\n",
      "  [ 8.  9. 10. 11.]]\n",
      "\n",
      " [[12. 13. 14. 15.]\n",
      "  [16. 17. 18. 19.]\n",
      "  [20. 21. 22. 23.]]]\n",
      "\n",
      "Shape of array : (2, 3, 4)\n",
      "Size of a array : 24\n",
      "Number of dimension : 3\n",
      "Data Type is : float64\n"
     ]
    }
   ],
   "source": [
    "import numpy as np\n",
    "\n",
    "a = np.arange(24).reshape(2,3,4)\n",
    "print(a)\n",
    "print(f\"\\nShape of array : {a.shape}\")\n",
    "print(f\"Size of a array : {a.size}\")\n",
    "print(f\"Number of dimension : {a.ndim}\")\n",
    "print(f\"Data Type is : {a.dtype}\")\n",
    "a_floattype = a.astype(np.float64) \n",
    "print(f\"\\nChanged data type is :{a_floattype.dtype} \")\n",
    "print(\"After changing its data type to float:\")\n",
    "print(a_floattype)\n",
    "print(f\"\\nShape of array : {a_floattype.shape}\")\n",
    "print(f\"Size of a array : {a_floattype.size}\")\n",
    "print(f\"Number of dimension : {a_floattype.ndim}\")\n",
    "print(f\"Data Type is : {a_floattype.dtype}\")\n"
   ]
  },
  {
   "cell_type": "markdown",
   "metadata": {},
   "source": [
    "### Q-13:- Reshape a 1D array of 12 elements into a 3x4 2D array and then flatten it back into a 1D array using ravel (). Verify that the flattened array matches the original. \n"
   ]
  },
  {
   "cell_type": "code",
   "execution_count": 23,
   "metadata": {},
   "outputs": [
    {
     "name": "stdout",
     "output_type": "stream",
     "text": [
      "[ 0  1  2  3  4  5  6  7  8  9 10 11]\n",
      "\n",
      "Reshaping in 2D array : \n",
      "[[ 0  1  2  3]\n",
      " [ 4  5  6  7]\n",
      " [ 8  9 10 11]]\n",
      "\n",
      "Flatten back in 1d :\n",
      "[ 0  1  2  3  4  5  6  7  8  9 10 11]\n",
      "\n",
      "Is flatten array matches the original ? {True}\n"
     ]
    }
   ],
   "source": [
    "import numpy as np\n",
    "\n",
    "array_1D = np.arange(12)\n",
    "print(array_1D)\n",
    "\n",
    "\n",
    "print(\"\\nReshaping in 2D array : \")\n",
    "array_2D = array_1D.reshape(3,4)\n",
    "print(array_2D)\n",
    "\n",
    "print(\"\\nFlatten back in 1d :\")\n",
    "flatten_array = np.ravel(array_2D)\n",
    "print(flatten_array)\n",
    "\n",
    "print(\"\\nIs flatten array matches the original ?\",{np.array_equal(array_1D,flatten_array)})\n"
   ]
  },
  {
   "cell_type": "markdown",
   "metadata": {},
   "source": [
    "### Q-14:- Given two arrays, a = np. array ([1, 2, 3]) and b = np. array ([4,5, 6]), perform element-wise addition, subtraction, multiplication, and division. Explain the behavior when dividing by zero"
   ]
  },
  {
   "cell_type": "code",
   "execution_count": 25,
   "metadata": {},
   "outputs": [
    {
     "name": "stdout",
     "output_type": "stream",
     "text": [
      "Addition is : [5 7 9]\n",
      "Subtraction is : [-3 -3 -3]\n",
      "Multiplication is : [ 4 10 18]\n",
      "Division is : [0.25 0.4  0.5 ]\n",
      "\n",
      "Divided by Zero is :  [inf inf inf]\n"
     ]
    },
    {
     "name": "stderr",
     "output_type": "stream",
     "text": [
      "C:\\Users\\POOJA SINGH\\AppData\\Local\\Temp\\ipykernel_2904\\3126585448.py:12: RuntimeWarning: divide by zero encountered in divide\n",
      "  divided_by_zero = a / b_zero\n"
     ]
    }
   ],
   "source": [
    "import numpy as np\n",
    "\n",
    "a = np.array([1,2,3])\n",
    "b = np.array([4,5,6])\n",
    "\n",
    "print(\"Addition is :\",np.add(a,b))\n",
    "print(\"Subtraction is :\",np.subtract(a,b))\n",
    "print(\"Multiplication is :\",np.multiply(a,b))\n",
    "print(\"Division is :\",np.divide(a,b))\n",
    "\n",
    "b_zero = np.array([0,0,0])\n",
    "divided_by_zero = a / b_zero\n",
    "print(\"\\nDivided by Zero is : \",divided_by_zero)"
   ]
  },
  {
   "cell_type": "markdown",
   "metadata": {},
   "source": [
    "### Q-15:- Create a 2D array of shape (3, 1) and a 1D array of length 3. Perform element-wise addition using broadcasting. Explain how broadcasting rules apply in this scenario"
   ]
  },
  {
   "cell_type": "code",
   "execution_count": 33,
   "metadata": {},
   "outputs": [
    {
     "name": "stdout",
     "output_type": "stream",
     "text": [
      "[[0]\n",
      " [1]\n",
      " [2]]\n",
      "\n",
      " [1 2 3]\n",
      "\n",
      "Addition of both arrays :\n",
      " [[1 2 3]\n",
      " [2 3 4]\n",
      " [3 4 5]]\n"
     ]
    }
   ],
   "source": [
    "import numpy as np \n",
    "array_2d = np.arange(3).reshape(3,1)\n",
    "print(array_2D)\n",
    "\n",
    "array_1d = np.array([1,2,3]) \n",
    "print(\"\\n\",array_1d)\n",
    "\n",
    "print(\"\\nAddition of both arrays :\\n\",array_1d + array_2d)"
   ]
  },
  {
   "cell_type": "markdown",
   "metadata": {},
   "source": [
    "How Broadcasting rules apply in above scenario?\n",
    "-> Broadcasting allowed a (3,1) array and a (3,) array to be added without explicit reshaping.\n",
    "-> The 1D array was expanded along the missing dimension to match the (3,1) shape.\n",
    "-> The result is a (3,3) array."
   ]
  },
  {
   "cell_type": "markdown",
   "metadata": {},
   "source": [
    "### Q-16:- Generate a random 2D array of integers between 0 and 10. Use conditional operators to create a Boolean mask identifying elements greater than 5. Replace all elements greater than 5 with the value 5. "
   ]
  },
  {
   "cell_type": "code",
   "execution_count": 49,
   "metadata": {},
   "outputs": [
    {
     "name": "stdout",
     "output_type": "stream",
     "text": [
      "Original array :\n",
      "[[3 2 7 4 4]\n",
      " [2 6 2 9 0]]\n",
      "\n",
      "After applying conditional operators : \n",
      "[[3 2 5 4 4]\n",
      " [2 5 2 5 0]]\n"
     ]
    }
   ],
   "source": [
    "import numpy as np\n",
    "\n",
    "array_2D = np.random.randint(0,10,(2,5))\n",
    "print(\"Original array :\")\n",
    "print(array_2D)\n",
    "\n",
    "mask = np.where(array_2D > 5 , 5 ,array_2D)\n",
    "print(\"\\nAfter applying conditional operators : \")\n",
    "print(mask)"
   ]
  },
  {
   "cell_type": "markdown",
   "metadata": {},
   "source": [
    "### Q-17:-  Given a 4x4 array of random integers, use indexing and slicing to extract:\n",
    "#### o The entire second row\n",
    "#### o The last column\n",
    "#### o The subarray consisting of the first two rows and first two columns \n"
   ]
  },
  {
   "cell_type": "code",
   "execution_count": 60,
   "metadata": {},
   "outputs": [
    {
     "name": "stdout",
     "output_type": "stream",
     "text": [
      "Original array :\n",
      " [[ 5  6 12 13]\n",
      " [ 9  4  4 15]\n",
      " [16  2 15 10]\n",
      " [ 8  2  2  6]]\n",
      "Second row :\n",
      " [ 9  4  4 15]\n",
      "Last Column :\n",
      " [13 15 10  6]\n",
      "Subarray consisting of the first two rows and first two columns :\n",
      " [[5 6]\n",
      " [9 4]]\n"
     ]
    }
   ],
   "source": [
    "import numpy as np\n",
    "\n",
    "array = np.random.randint(1,17,(4,4))\n",
    "print(\"Original array :\\n\",array)\n",
    "\n",
    "second_row = array[1,::]\n",
    "print(\"Second row :\\n\",second_row)\n",
    "\n",
    "last_column = array[::,3]\n",
    "print(\"Last Column :\\n\",last_column)\n",
    "\n",
    "subarray = array[:2,:2]\n",
    "print(\"Subarray consisting of the first two rows and first two columns :\\n\",subarray)"
   ]
  },
  {
   "cell_type": "markdown",
   "metadata": {},
   "source": [
    "### Q-18:- Describe a practical example where NumPy can be used in EDA, AI, ML, and DL, and implement a NumPy solution for a simple task in each area."
   ]
  },
  {
   "cell_type": "code",
   "execution_count": null,
   "metadata": {},
   "outputs": [],
   "source": []
  },
  {
   "cell_type": "markdown",
   "metadata": {},
   "source": [
    "### Q-19:- Create a random 4x4 matrix and use NumPy to compute its eigenvalues and eigenvectors. Verify the eigenvalues by reconstructing the matrix. "
   ]
  },
  {
   "cell_type": "code",
   "execution_count": null,
   "metadata": {},
   "outputs": [],
   "source": []
  },
  {
   "cell_type": "markdown",
   "metadata": {},
   "source": [
    "### Q-20:- Create a 1D array of 27 elements and reshape it into a 3x3x3 3D array. Flatten it back into a 1D array and compare the flattened array with the original. "
   ]
  },
  {
   "cell_type": "code",
   "execution_count": 70,
   "metadata": {},
   "outputs": [
    {
     "name": "stdout",
     "output_type": "stream",
     "text": [
      "Original 1D array:\n",
      " [ 0  1  2  3  4  5  6  7  8  9 10 11 12 13 14 15 16 17 18 19 20 21 22 23\n",
      " 24 25 26]\n",
      "After reshaping into 3D array :\n",
      " [[[ 0  1  2]\n",
      "  [ 3  4  5]\n",
      "  [ 6  7  8]]\n",
      "\n",
      " [[ 9 10 11]\n",
      "  [12 13 14]\n",
      "  [15 16 17]]\n",
      "\n",
      " [[18 19 20]\n",
      "  [21 22 23]\n",
      "  [24 25 26]]]\n",
      "Flatten Array is :\n",
      " [ 0  1  2  3  4  5  6  7  8  9 10 11 12 13 14 15 16 17 18 19 20 21 22 23\n",
      " 24 25 26]\n",
      "Compare flattened array with the original:  True\n"
     ]
    }
   ],
   "source": [
    "array__1D = np.arange(27)\n",
    "print(\"Original 1D array:\\n\",array__1D)\n",
    "\n",
    "array__2D = array__1D.reshape(3,3,3)\n",
    "print(\"After reshaping into 3D array :\\n\",array__2D)\n",
    "\n",
    "flatten = array__2D.ravel()\n",
    "print(\"Flatten Array is :\\n\",flatten)\n",
    "\n",
    "print(\"Compare flattened array with the original: \",(np.array_equal(array__1D,flatten)))"
   ]
  },
  {
   "cell_type": "markdown",
   "metadata": {},
   "source": [
    "### Q-21:- Perform matrix multiplication of two 2D arrays using np.dot () and @. Compare the results and performance of both methods using a large dataset. "
   ]
  },
  {
   "cell_type": "markdown",
   "metadata": {},
   "source": [
    "### Q-22:- Create a 3D array of shape (2, 1, 4) and a 2D array of shape (4,1). Perform an element-wise operation using broadcasting and explain the result. Use np. new axis to achieve the same result without broadcasting. "
   ]
  },
  {
   "cell_type": "code",
   "execution_count": 21,
   "metadata": {},
   "outputs": [
    {
     "name": "stdout",
     "output_type": "stream",
     "text": [
      "3-D array:\n",
      " [[[0 1 2 3]]\n",
      "\n",
      " [[4 5 6 7]]]\n",
      "2-D array:\n",
      " [[0]\n",
      " [1]\n",
      " [2]\n",
      " [3]]\n",
      "Result is :\n",
      " [[[ 0  1  2  3]\n",
      "  [ 1  2  3  4]\n",
      "  [ 2  3  4  5]\n",
      "  [ 3  4  5  6]]\n",
      "\n",
      " [[ 4  5  6  7]\n",
      "  [ 5  6  7  8]\n",
      "  [ 6  7  8  9]\n",
      "  [ 7  8  9 10]]]\n"
     ]
    },
    {
     "data": {
      "text/plain": [
       "(2, 4, 4)"
      ]
     },
     "execution_count": 21,
     "metadata": {},
     "output_type": "execute_result"
    }
   ],
   "source": [
    "import numpy as np\n",
    "\n",
    "array_3d = np.arange(8).reshape(2,1,4)\n",
    "array_2d = np.arange(4).reshape(4,1)\n",
    "print(\"3-D array:\\n\",array_3d)\n",
    "print(\"2-D array:\\n\",array_2d)\n",
    "\n",
    "result_broadcasting = array_3d + array_2d\n",
    "print(\"Result is :\\n\",result_broadcasting)\n",
    "result_broadcasting.shape"
   ]
  },
  {
   "cell_type": "markdown",
   "metadata": {},
   "source": [
    "### Q-23:-  Generate a 2D array of random floats between 0 and 1. Use conditional operators to create a Boolean mask for values less than 0.5. Replace these values with their squares and leave the rest unchanged."
   ]
  },
  {
   "cell_type": "code",
   "execution_count": 9,
   "metadata": {},
   "outputs": [
    {
     "name": "stdout",
     "output_type": "stream",
     "text": [
      "[[0.10770035 0.29651974 0.82430306 0.40177829]\n",
      " [0.6216975  0.61105212 0.37967146 0.44910212]\n",
      " [0.7213033  0.57014628 0.43324468 0.25086151]\n",
      " [0.18238726 0.44958505 0.33608023 0.96968245]]\n",
      "\n",
      "Modified array :\n",
      " [[0.01159937 0.08792396 0.82430306 0.1614258 ]\n",
      " [0.6216975  0.61105212 0.14415042 0.20169271]\n",
      " [0.7213033  0.57014628 0.18770096 0.0629315 ]\n",
      " [0.03326511 0.20212671 0.11294992 0.96968245]]\n"
     ]
    }
   ],
   "source": [
    "import numpy as np\n",
    "\n",
    "array2D = np.random.rand(4,4)\n",
    "print(array2D)\n",
    "\n",
    "bool_mask = array2D < 0.5\n",
    "array2D[bool_mask] = array2D[bool_mask] ** 2\n",
    "print(\"\\nModified array :\\n\",array2D)\n"
   ]
  },
  {
   "cell_type": "markdown",
   "metadata": {},
   "source": [
    "### Q-24:- Given a 5x5 array of sequential integers, use slicing to:\n",
    "####            o Extract the diagonal elements\n",
    "####            o Replace the elements of the middle row with zeros\n",
    "####            o Flip the array vertically and horizontally"
   ]
  },
  {
   "cell_type": "code",
   "execution_count": 19,
   "metadata": {},
   "outputs": [
    {
     "name": "stdout",
     "output_type": "stream",
     "text": [
      "5-Dimensional Array : \n",
      " [[ 0  1  2  3  4]\n",
      " [ 5  6  7  8  9]\n",
      " [10 11 12 13 14]\n",
      " [15 16 17 18 19]\n",
      " [20 21 22 23 24]]\n",
      "\n",
      "The Diagonal elements : \n",
      " [ 0  6 12 18 24]\n",
      "\n",
      "Replacing middle row with zeros:\n",
      " [[ 0  1  2  3  4]\n",
      " [ 5  6  7  8  9]\n",
      " [ 0  0  0  0  0]\n",
      " [15 16 17 18 19]\n",
      " [20 21 22 23 24]]\n",
      "\n",
      "After Flipping array :\n",
      " [[24 23 22 21 20]\n",
      " [19 18 17 16 15]\n",
      " [ 0  0  0  0  0]\n",
      " [ 9  8  7  6  5]\n",
      " [ 4  3  2  1  0]]\n"
     ]
    }
   ],
   "source": [
    "import numpy as np\n",
    "\n",
    "array_5D = np.arange(25).reshape(5,5)\n",
    "print(\"5-Dimensional Array : \\n\",array_5D)\n",
    "\n",
    "#Extract the diagonal elements\n",
    "\n",
    "diag_elements = np.diag(array_5D)\n",
    "print(\"\\nThe Diagonal elements : \\n\",diag_elements)\n",
    "\n",
    "#Replace the elements of the middle row with zeros\n",
    "\n",
    "array_5D[2,]=0\n",
    "print(\"\\nReplacing middle row with zeros:\\n\",array_5D)\n",
    "\n",
    "#Flip the array vertically and horizontally\n",
    "\n",
    "flipped_array = np.flip(array_5D)\n",
    "print(\"\\nAfter Flipping array :\\n\",flipped_array)\n"
   ]
  },
  {
   "cell_type": "markdown",
   "metadata": {},
   "source": [
    "### Q-24:- Create a 4D array of shape (2, 3, 4, 5) with random integers. Use advanced slicing to extract a subarray and compute the mean along a specified axis."
   ]
  },
  {
   "cell_type": "code",
   "execution_count": null,
   "metadata": {},
   "outputs": [
    {
     "name": "stdout",
     "output_type": "stream",
     "text": [
      "4 Dimensional Array :\n",
      " [[[[43 25 59 82 65]\n",
      "   [53 59 24 12 59]\n",
      "   [11 34 34  1  8]\n",
      "   [ 4 31 75 41 47]]\n",
      "\n",
      "  [[72 65 65 85 92]\n",
      "   [20 51 34 52 96]\n",
      "   [70 18 84 51 84]\n",
      "   [78 22  9  2 12]]\n",
      "\n",
      "  [[92 38 94 48 72]\n",
      "   [63 99 86 77 34]\n",
      "   [19 46 26 51 75]\n",
      "   [79  4 71 77 15]]]\n",
      "\n",
      "\n",
      " [[[75 27 65 96 81]\n",
      "   [31 75 14 39 75]\n",
      "   [30  8  9 95 41]\n",
      "   [77 58 83 96 38]]\n",
      "\n",
      "  [[89 25 72 36 43]\n",
      "   [29 45 77 63 59]\n",
      "   [95  1 56 11 13]\n",
      "   [14 11 38 89 38]]\n",
      "\n",
      "  [[78 82 96 71 44]\n",
      "   [81 39 30 58 66]\n",
      "   [15 69 11 60 88]\n",
      "   [90 65 13 18 27]]]]\n"
     ]
    }
   ],
   "source": [
    "import numpy as np\n",
    "\n",
    "array_4D = np.random.randint(0,100,(2,3,4,5))\n",
    "print(\"4 Dimensional Array :\\n\",array_4D)\n",
    "\n"
   ]
  },
  {
   "cell_type": "markdown",
   "metadata": {},
   "source": [
    "### Q-26:- Given an array of shape (10, 20), reshape it to (20, 10) and (5,40). Discuss the impact on the array's shape, size, and dimensionality. "
   ]
  },
  {
   "cell_type": "code",
   "execution_count": 33,
   "metadata": {},
   "outputs": [
    {
     "name": "stdout",
     "output_type": "stream",
     "text": [
      "2 Dimensional Array :\n",
      " [[  0   1   2   3   4   5   6   7   8   9  10  11  12  13  14  15  16  17\n",
      "   18  19]\n",
      " [ 20  21  22  23  24  25  26  27  28  29  30  31  32  33  34  35  36  37\n",
      "   38  39]\n",
      " [ 40  41  42  43  44  45  46  47  48  49  50  51  52  53  54  55  56  57\n",
      "   58  59]\n",
      " [ 60  61  62  63  64  65  66  67  68  69  70  71  72  73  74  75  76  77\n",
      "   78  79]\n",
      " [ 80  81  82  83  84  85  86  87  88  89  90  91  92  93  94  95  96  97\n",
      "   98  99]\n",
      " [100 101 102 103 104 105 106 107 108 109 110 111 112 113 114 115 116 117\n",
      "  118 119]\n",
      " [120 121 122 123 124 125 126 127 128 129 130 131 132 133 134 135 136 137\n",
      "  138 139]\n",
      " [140 141 142 143 144 145 146 147 148 149 150 151 152 153 154 155 156 157\n",
      "  158 159]\n",
      " [160 161 162 163 164 165 166 167 168 169 170 171 172 173 174 175 176 177\n",
      "  178 179]\n",
      " [180 181 182 183 184 185 186 187 188 189 190 191 192 193 194 195 196 197\n",
      "  198 199]]\n",
      "\n",
      "Reshape to (20,10) :\n",
      "[[  0   1   2   3   4   5   6   7   8   9]\n",
      " [ 10  11  12  13  14  15  16  17  18  19]\n",
      " [ 20  21  22  23  24  25  26  27  28  29]\n",
      " [ 30  31  32  33  34  35  36  37  38  39]\n",
      " [ 40  41  42  43  44  45  46  47  48  49]\n",
      " [ 50  51  52  53  54  55  56  57  58  59]\n",
      " [ 60  61  62  63  64  65  66  67  68  69]\n",
      " [ 70  71  72  73  74  75  76  77  78  79]\n",
      " [ 80  81  82  83  84  85  86  87  88  89]\n",
      " [ 90  91  92  93  94  95  96  97  98  99]\n",
      " [100 101 102 103 104 105 106 107 108 109]\n",
      " [110 111 112 113 114 115 116 117 118 119]\n",
      " [120 121 122 123 124 125 126 127 128 129]\n",
      " [130 131 132 133 134 135 136 137 138 139]\n",
      " [140 141 142 143 144 145 146 147 148 149]\n",
      " [150 151 152 153 154 155 156 157 158 159]\n",
      " [160 161 162 163 164 165 166 167 168 169]\n",
      " [170 171 172 173 174 175 176 177 178 179]\n",
      " [180 181 182 183 184 185 186 187 188 189]\n",
      " [190 191 192 193 194 195 196 197 198 199]]\n",
      "\n",
      "Reshape to (5,40) :\n",
      "[[  0   1   2   3   4   5   6   7   8   9  10  11  12  13  14  15  16  17\n",
      "   18  19  20  21  22  23  24  25  26  27  28  29  30  31  32  33  34  35\n",
      "   36  37  38  39]\n",
      " [ 40  41  42  43  44  45  46  47  48  49  50  51  52  53  54  55  56  57\n",
      "   58  59  60  61  62  63  64  65  66  67  68  69  70  71  72  73  74  75\n",
      "   76  77  78  79]\n",
      " [ 80  81  82  83  84  85  86  87  88  89  90  91  92  93  94  95  96  97\n",
      "   98  99 100 101 102 103 104 105 106 107 108 109 110 111 112 113 114 115\n",
      "  116 117 118 119]\n",
      " [120 121 122 123 124 125 126 127 128 129 130 131 132 133 134 135 136 137\n",
      "  138 139 140 141 142 143 144 145 146 147 148 149 150 151 152 153 154 155\n",
      "  156 157 158 159]\n",
      " [160 161 162 163 164 165 166 167 168 169 170 171 172 173 174 175 176 177\n",
      "  178 179 180 181 182 183 184 185 186 187 188 189 190 191 192 193 194 195\n",
      "  196 197 198 199]]\n"
     ]
    }
   ],
   "source": [
    "import numpy as  np\n",
    "array_d = np.arange(200).reshape(10,20)\n",
    "print(\"2 Dimensional Array :\\n\",array_d)\n",
    "\n",
    "print(\"\\nReshape to (20,10) :\")\n",
    "reshape_array = array_d.reshape(20,10)\n",
    "print(reshape_array)\n",
    "\n",
    "print(\"\\nReshape to (5,40) :\")\n",
    "reshaped_array = array_d.reshape(5,40)\n",
    "print(reshaped_array)\n",
    "\n"
   ]
  },
  {
   "cell_type": "markdown",
   "metadata": {},
   "source": [
    "#### Impact on the array's shape, size, and dimensionality. \n",
    "\n",
    "##### 1: Shape Change:\n",
    "#####             The number of elements remains the same, but rows and columns are rearranged.\n",
    "#####             (10, 20) → (20, 10): Just swaps rows and columns.\n",
    "#####             (10, 20) → (5, 40): Merges some rows together into fewer, wider rows.\n",
    "##### 2: Size Remains the same:\n",
    "#####             Reshaping does not alter the number of elements.\n",
    "##### 3: Dimensionality is Unchanged:\n",
    "#####             The array remains 2D in all cases."
   ]
  },
  {
   "cell_type": "markdown",
   "metadata": {},
   "source": [
    "#### Q-27:- Generate a large 2D array and demonstrate the use of np. reshape() and unravel() to manipulate its shape for various linear algebra operations."
   ]
  },
  {
   "cell_type": "code",
   "execution_count": 58,
   "metadata": {},
   "outputs": [
    {
     "name": "stdout",
     "output_type": "stream",
     "text": [
      "2 Dimensional Array :\n",
      " [[12 20 19 12 24 24]\n",
      " [ 1 24 18 21 17  3]\n",
      " [12  3 12 13 16 19]\n",
      " [ 9 15  2  4 23  6]]\n",
      "\n",
      "After reshaping :\n",
      "[[[12 20 19]\n",
      "  [12 24 24]\n",
      "  [ 1 24 18]\n",
      "  [21 17  3]]\n",
      "\n",
      " [[12  3 12]\n",
      "  [13 16 19]\n",
      "  [ 9 15  2]\n",
      "  [ 4 23  6]]]\n",
      "\n",
      "Flattened Array :\n",
      " [12 20 19 12 24 24  1 24 18 21 17  3 12  3 12 13 16 19  9 15  2  4 23  6]\n"
     ]
    }
   ],
   "source": [
    "import numpy as np\n",
    "\n",
    "array2d = np.random.randint(1,25,(4,6))\n",
    "print(\"2 Dimensional Array :\\n\",array2d)\n",
    "\n",
    "reshape = array2d.reshape(2,4,3)\n",
    "print(\"\\nAfter reshaping :\")\n",
    "print(reshape)\n",
    "\n",
    "flattened = np.ravel(array2d)\n",
    "print(\"\\nFlattened Array :\\n\",flattened)\n",
    "\n",
    "# max_index = np.argmax(flattened)\n",
    "# unflattened = np.unravel_index(max_index,array2d.shape)\n",
    "# print(\"\\nAfter Flattened:\\n\",unflattened)"
   ]
  },
  {
   "cell_type": "markdown",
   "metadata": {},
   "source": [
    "#### Q-28:- Given a 6x6 matrix, use advanced indexing and slicing to extract the upper triangular part of the matrix and set the lower triangular part to zero. Verify the result. "
   ]
  },
  {
   "cell_type": "code",
   "execution_count": 66,
   "metadata": {},
   "outputs": [
    {
     "name": "stdout",
     "output_type": "stream",
     "text": [
      "6 Dimensional Matrix:\n",
      " [[33 18 30 22 31  1]\n",
      " [27 10 21 29 31 17]\n",
      " [26 19 32 12 19 25]\n",
      " [26 17  4  2  8 20]\n",
      " [ 1 23 11  7 34  8]\n",
      " [ 4 28 32 17 18  8]]\n",
      "\n",
      "Upper Triangular Part of Matrix:\n",
      " [[33 18 30 22 31  1]\n",
      " [ 0 10 21 29 31 17]\n",
      " [ 0  0 32 12 19 25]\n",
      " [ 0  0  0  2  8 20]\n",
      " [ 0  0  0  0 34  8]\n",
      " [ 0  0  0  0  0  8]]\n"
     ]
    }
   ],
   "source": [
    "import numpy as np\n",
    "\n",
    "matrix = np.random.randint(1,36,(6,6))\n",
    "print(\"6 Dimensional Matrix:\\n\",matrix)\n",
    "\n",
    "upper_triangular = np.triu(matrix)\n",
    "print(\"\\nUpper Triangular Part of Matrix:\\n\",upper_triangular)"
   ]
  }
 ],
 "metadata": {
  "kernelspec": {
   "display_name": "Python 3",
   "language": "python",
   "name": "python3"
  },
  "language_info": {
   "codemirror_mode": {
    "name": "ipython",
    "version": 3
   },
   "file_extension": ".py",
   "mimetype": "text/x-python",
   "name": "python",
   "nbconvert_exporter": "python",
   "pygments_lexer": "ipython3",
   "version": "3.13.2"
  }
 },
 "nbformat": 4,
 "nbformat_minor": 2
}
